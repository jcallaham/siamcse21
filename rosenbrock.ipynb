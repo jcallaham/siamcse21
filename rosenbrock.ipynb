{
  "nbformat": 4,
  "nbformat_minor": 0,
  "metadata": {
    "kernelspec": {
      "display_name": "Python 3",
      "language": "python",
      "name": "python3"
    },
    "language_info": {
      "codemirror_mode": {
        "name": "ipython",
        "version": 3
      },
      "file_extension": ".py",
      "mimetype": "text/x-python",
      "name": "python",
      "nbconvert_exporter": "python",
      "pygments_lexer": "ipython3",
      "version": "3.9.0"
    },
    "colab": {
      "name": "rosenbrock.ipynb",
      "provenance": [],
      "collapsed_sections": [],
      "include_colab_link": true
    }
  },
  "cells": [
    {
      "cell_type": "markdown",
      "metadata": {
        "id": "view-in-github",
        "colab_type": "text"
      },
      "source": [
        "<a href=\"https://colab.research.google.com/github/sriharikrishna/siamcse21/blob/main/rosenbrock.ipynb\" target=\"_parent\"><img src=\"https://colab.research.google.com/assets/colab-badge.svg\" alt=\"Open In Colab\"/></a>"
      ]
    },
    {
      "cell_type": "markdown",
      "metadata": {
        "id": "B9DO78IJ3To4"
      },
      "source": [
        "# Rosenbrock function\n",
        "Also known as Rosenbrock's valley or Rosenbrock's banana function, the Rosenbrock function is a performace test for optimization. The narrow long valley makes it difficult to find the minimum. \n",
        "\n",
        "\\begin{equation}\n",
        "F(x) = \\sum_{i=0}^{N-1}100(x_{i+1} - x_i^2)^2 + (1 - x_i)^2.\n",
        "\\end{equation}\n"
      ]
    },
    {
      "cell_type": "markdown",
      "metadata": {
        "id": "zUQVBwdc3To5"
      },
      "source": [
        "### Primal Function"
      ]
    },
    {
      "cell_type": "code",
      "metadata": {
        "id": "w1DI9YNu3To6"
      },
      "source": [
        "import jax\n",
        "from jax import random\n",
        "import jax.numpy as jnp\n",
        "import numpy as np\n",
        "import matplotlib.pyplot as plt\n",
        "\n",
        "def rosenbrock(x):\n",
        "    \"\"\"\n",
        "    Computes the Rosenbrock's banana\n",
        "    x : array of values\n",
        "    \"\"\"\n",
        "    result = jnp.sum(100.0 * (x[1:] - x[:-1]**2.0)**2.0 + (1 - x[:-1])**2.0,axis=0)\n",
        "    return result\n",
        "\n",
        "def plot_vals(vals, grad=None):\n",
        "    plt.plot(vals,label='values')\n",
        "    if grad != None:\n",
        "      plt.plot(grad,label='grad')\n",
        "    plt.legend()\n",
        "    plt.title('')\n",
        "    plt.figure()\n",
        "    plt.show()"
      ],
      "execution_count": null,
      "outputs": []
    },
    {
      "cell_type": "markdown",
      "metadata": {
        "id": "3trBKqNG3To6"
      },
      "source": [
        "### Primal Driver"
      ]
    },
    {
      "cell_type": "code",
      "metadata": {
        "id": "pDjU1M8n3To6"
      },
      "source": [
        "def rosenbrockdriver(n):\n",
        "    \"\"\"\n",
        "    n must be a positive integer\n",
        "    \"\"\"\n",
        "    \n",
        "    #create a random array\n",
        "    key = random.PRNGKey(0)\n",
        "    val = random.normal(key, (n,), jnp.float64)\n",
        "    \n",
        "    #compute the result\n",
        "    result = rosenbrock(val)\n",
        "    \n",
        "    print(\"The input is\", val)\n",
        "    print(\"The result of Rosenbrock's is \", result)"
      ],
      "execution_count": null,
      "outputs": []
    },
    {
      "cell_type": "code",
      "metadata": {
        "id": "6zbAGnJB3To7"
      },
      "source": [
        "rosenbrockdriver(10)"
      ],
      "execution_count": null,
      "outputs": []
    },
    {
      "cell_type": "markdown",
      "metadata": {
        "id": "dyEgww5c3To7"
      },
      "source": [
        "### First look at derivatives: `jax.grad()`\n",
        "1. Appropriate for a scalar function\n",
        "2. Uses reverse mode (it is a wrapper for `jax.jacjvp()`)\n",
        "3. Assumes a seed of `1.0`. \n",
        "   (For reverse mode the shape of the seed must match the primal output.)\n",
        "4. Produces $\\frac{\\partial{F(x)}}{\\partial{x}}$   "
      ]
    },
    {
      "cell_type": "code",
      "metadata": {
        "id": "K8AG5wiB3To7"
      },
      "source": [
        "#Create a function that computes the derivatives\n",
        "grad_rosenbrock = jax.grad(rosenbrock)\n",
        "\n",
        "def rosenbrockgrad(n):\n",
        "    \"\"\"\n",
        "    n must be a positive integer\n",
        "    \"\"\"\n",
        "    \n",
        "    #create a random array\n",
        "    key = random.PRNGKey(0)\n",
        "    val = random.normal(key, (n,), jnp.float64)\n",
        "    \n",
        "    #compute the result\n",
        "    result = grad_rosenbrock(val)\n",
        "    plot_vals(val,grad=result)\n",
        "    print(\"The input is\", val)\n",
        "    print(\"The grad result is \", result)"
      ],
      "execution_count": null,
      "outputs": []
    },
    {
      "cell_type": "code",
      "metadata": {
        "id": "rpvTSprC3To8"
      },
      "source": [
        "rosenbrockgrad(10)"
      ],
      "execution_count": null,
      "outputs": []
    },
    {
      "cell_type": "markdown",
      "metadata": {
        "id": "x9PuEwRW3To8"
      },
      "source": [
        "### Forward mode using: `jax.jacjvp()`\n",
        "1. https://jax.readthedocs.io/en/latest/jax.html#jax.jvp\n",
        "1. Uses forward mode, returns the gradients for a function $R^n \\rightarrow R^m$. \n",
        "2. You must provide the primal and a seed vector. \n",
        "   (For forward mode the shape of the seed must match the primal input.)\n",
        "4. Produces $\\frac{\\partial{F(x)}}{\\partial{x}}$  \n",
        "5. The code below obtains the entire Jacobian by calling `jax.jacjvp()` multiple times."
      ]
    },
    {
      "cell_type": "code",
      "metadata": {
        "id": "zPCa8H6O3To8"
      },
      "source": [
        "def rosenbrockjvp(n):\n",
        "    \"\"\"\n",
        "    n must be a positive integer\n",
        "    \"\"\"\n",
        "    \n",
        "    #create a random array\n",
        "    key = random.PRNGKey(0)\n",
        "    val = random.truncated_normal(key, -2.048, 2.048, (n,), jnp.float64)\n",
        "    tangents = jnp.empty([0])\n",
        "    iden_seed = jnp.eye(n)\n",
        "    for i in range(n):\n",
        "        primal_output, res = jax.jvp(rosenbrock, (val,), (iden_seed[i],))\n",
        "        tangents = jnp.append(tangents, res)\n",
        "    plot_vals(val,grad=tangents)\n",
        "    print(\"The input is\", val)\n",
        "    print(\"The jax.jvp result is \", tangents)"
      ],
      "execution_count": null,
      "outputs": []
    },
    {
      "cell_type": "code",
      "metadata": {
        "scrolled": true,
        "id": "8rnrWIBu3To8"
      },
      "source": [
        "rosenbrockjvp(20)"
      ],
      "execution_count": null,
      "outputs": []
    },
    {
      "cell_type": "markdown",
      "metadata": {
        "id": "80cZLGm23To9"
      },
      "source": [
        "### Reverse mode using: `jax.jacvjp()`\n",
        "1. https://jax.readthedocs.io/en/latest/jax.html#jax.vjp\n",
        "2. Uses reverse mode, returns a function that computes the adjoints for a funtion $R^n \\rightarrow R^m$.\n",
        "3. You can provide a seed. We have chosen `0.5` by default. \n",
        "4. Exercise: See how values change as the seed changes.\n",
        "1. https://jax.readthedocs.io/en/latest/jax.html#jax.jvp\n",
        " \n",
        "2. You must provide the primal and a seed vector. \n",
        "   (For forward mode the shape of the seed must match the primal input.)\n",
        "4. Produces $\\frac{\\partial{F(x)}}{\\partial{x}}$  \n",
        "5. The code below obtains the entire Jacobian by calling `jax.jacjvp()` multiple times."
      ]
    },
    {
      "cell_type": "code",
      "metadata": {
        "id": "bi66GZtX3To9"
      },
      "source": [
        "def rosenbrockvjp(n):    \n",
        "    \"\"\"\n",
        "    n must be a positive integer\n",
        "    \"\"\"\n",
        "    \n",
        "    #create a random array\n",
        "    key = random.PRNGKey(0)\n",
        "    val = random.normal(key, (n,), jnp.float64)\n",
        "    primals, fun_vjp = jax.vjp(rosenbrock, val)\n",
        "    \n",
        "    # The argument of fun_vjp() can be any real number\n",
        "    seed = 0.5\n",
        "    adj_val = fun_vjp(seed)\n",
        "    plot_vals(val,grad=jnp.stack(adj_val[0]))\n",
        "\n",
        "    print(\"The input is\", val)\n",
        "    print(\"The jax.vjp result is \", adj_val[0])"
      ],
      "execution_count": null,
      "outputs": []
    },
    {
      "cell_type": "code",
      "metadata": {
        "id": "jJ-qVDff3To9"
      },
      "source": [
        "rosenbrockvjp(7)"
      ],
      "execution_count": null,
      "outputs": []
    },
    {
      "cell_type": "markdown",
      "metadata": {
        "id": "TaG7fvDy4CWa"
      },
      "source": [
        "# Multiple Input Arrays\n",
        "1. `jax.grad()` `jax.jvp()` `jax.vjp()` all support multiple arrays as *input*"
      ]
    },
    {
      "cell_type": "markdown",
      "metadata": {
        "id": "0t2YnoCz3aHD"
      },
      "source": [
        ""
      ]
    },
    {
      "cell_type": "code",
      "metadata": {
        "id": "pDXr-pU5QLUJ"
      },
      "source": [
        "def rosenbrock2(x,y):\n",
        "    \"\"\"\n",
        "    Computes the Rosenbrock's banana\n",
        "    x : array of values\n",
        "    \"\"\"\n",
        "    result = jnp.sum(100.0 * (x[1:] - x[:-1]**2.0)**2.0 + (1 - x[:-1])**2.0,axis=0)\n",
        "    result += jnp.sum(100.0 * (y[1:] - y[:-1]**2.0)**2.0 + (1 - y[:-1])**2.0,axis=0)\n",
        "    return result"
      ],
      "execution_count": null,
      "outputs": []
    },
    {
      "cell_type": "code",
      "metadata": {
        "id": "9cQ5TGpWS5aM"
      },
      "source": [
        "#Create a function that computes the derivatives\n",
        "grad_rosenbrock2 = jax.grad(rosenbrock2, argnums=(0,1))\n",
        "\n",
        "def rosenbrock2grad(n1, n2):\n",
        "    \"\"\"\n",
        "    n must be a positive integer\n",
        "    \"\"\"\n",
        "    \n",
        "    #create a random array\n",
        "    key = random.PRNGKey(0)\n",
        "    val1 = random.normal(key, (n1,), jnp.float64)\n",
        "    val2 = random.normal(key, (n2,), jnp.float64)\n",
        "\n",
        "    #compute the result\n",
        "    result1, result2 = grad_rosenbrock2(val1, val2,)\n",
        "    print(\"The input is\", val1, val2)\n",
        "    print(\"The grad result is \", result1, result2)"
      ],
      "execution_count": null,
      "outputs": []
    },
    {
      "cell_type": "code",
      "metadata": {
        "id": "bhIuhOo9mnaH"
      },
      "source": [
        "rosenbrock2grad(3,4)"
      ],
      "execution_count": null,
      "outputs": []
    },
    {
      "cell_type": "code",
      "metadata": {
        "id": "TfwW-ouTsbk7"
      },
      "source": [
        "def rosenbrock2jvp(n1, n2):\n",
        "    \"\"\"\n",
        "    n must be a positive integer\n",
        "    \"\"\"\n",
        "    \n",
        "    #create a random array\n",
        "    key = random.PRNGKey(0)\n",
        "    val1 = random.normal(key, (n1,), jnp.float64)\n",
        "    val2 = random.normal(key, (n2,), jnp.float64)\n",
        "    tangents = jnp.empty([0])\n",
        "    iden_seed1 = jnp.eye(n1)\n",
        "    iden_seed2 = jnp.eye(n2)\n",
        "    zero1 = jnp.zeros(n1)\n",
        "    zero2 = jnp.zeros(n2)\n",
        "    for i in range(n1):\n",
        "        primal_output, res = jax.jvp(rosenbrock2, (val1, val2), (iden_seed1[i],zero2))\n",
        "        tangents = jnp.append(tangents, res)\n",
        "    for i in range(n2):\n",
        "        primal_output, res = jax.jvp(rosenbrock2, (val1, val2), (zero1, iden_seed2[i],))\n",
        "        tangents = jnp.append(tangents, res)\n",
        "    print(\"The input is\", val1, val2)\n",
        "    print(\"The jax.jvp result is \", tangents)"
      ],
      "execution_count": null,
      "outputs": []
    },
    {
      "cell_type": "code",
      "metadata": {
        "scrolled": true,
        "id": "aB-FzgY2zMce"
      },
      "source": [
        "rosenbrock2jvp(3,4)"
      ],
      "execution_count": null,
      "outputs": []
    },
    {
      "cell_type": "code",
      "metadata": {
        "id": "9FWzy7r_02CO"
      },
      "source": [
        "def rosenbrock2vjp(n1,n2):    \n",
        "    \"\"\"\n",
        "    n must be a positive integer\n",
        "    \"\"\"\n",
        "    \n",
        "    #create a random array\n",
        "    key = random.PRNGKey(0)\n",
        "    val1 = random.normal(key, (n1,), jnp.float64)\n",
        "    val2 = random.normal(key, (n2,), jnp.float64)\n",
        "    primals, fun_vjp = jax.vjp(rosenbrock2, val1,val2)\n",
        "    \n",
        "    # The argument of fun_vjp() can be any real number\n",
        "    seed = 0.5\n",
        "    adj_val1, adj_val2 = fun_vjp(seed)\n",
        "    print(\"The input is\", val1, val2)\n",
        "    print(\"The jax.vjp result is \", np.array(adj_val1),np.array(adj_val2))"
      ],
      "execution_count": null,
      "outputs": []
    },
    {
      "cell_type": "code",
      "metadata": {
        "scrolled": true,
        "id": "tS8H7wJ91PUV"
      },
      "source": [
        "rosenbrock2vjp(3,4)"
      ],
      "execution_count": null,
      "outputs": []
    }
  ]
}