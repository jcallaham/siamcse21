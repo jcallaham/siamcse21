{
  "nbformat": 4,
  "nbformat_minor": 0,
  "metadata": {
    "kernelspec": {
      "display_name": "Python 3",
      "language": "python",
      "name": "python3"
    },
    "language_info": {
      "codemirror_mode": {
        "name": "ipython",
        "version": 3
      },
      "file_extension": ".py",
      "mimetype": "text/x-python",
      "name": "python",
      "nbconvert_exporter": "python",
      "pygments_lexer": "ipython3",
      "version": "3.9.0"
    },
    "colab": {
      "name": "rosenbrock.ipynb",
      "provenance": [],
      "collapsed_sections": [],
      "include_colab_link": true
    }
  },
  "cells": [
    {
      "cell_type": "markdown",
      "metadata": {
        "id": "view-in-github",
        "colab_type": "text"
      },
      "source": [
        "<a href=\"https://colab.research.google.com/github/sriharikrishna/siamcse21/blob/main/rosenbrock.ipynb\" target=\"_parent\"><img src=\"https://colab.research.google.com/assets/colab-badge.svg\" alt=\"Open In Colab\"/></a>"
      ]
    },
    {
      "cell_type": "markdown",
      "metadata": {
        "id": "B9DO78IJ3To4"
      },
      "source": [
        "# Rosenbrock function\n",
        "Also known as Rosenbrock's valley or Rosenbrock's banana function, the Rosenbrock function is a performace test for optimization. The narrow long valley makes it difficult to find the minimum. \n",
        "\n",
        "\\begin{equation}\n",
        "F(x) = \\sum_{i=0}^{N-1}100(x_{i+1} - x_i^2)^2 + (1 - x_i)^2.\n",
        "\\end{equation}\n"
      ]
    },
    {
      "cell_type": "markdown",
      "metadata": {
        "id": "zUQVBwdc3To5"
      },
      "source": [
        "### 1. Primal Function\n",
        "1. Evaluates the Rosenbrock function for an arbitary input vector."
      ]
    },
    {
      "cell_type": "code",
      "metadata": {
        "id": "w1DI9YNu3To6"
      },
      "source": [
        "import jax\n",
        "import jax.numpy as jnp\n",
        "import numpy as np\n",
        "import matplotlib.pyplot as plt\n",
        "\n",
        "def rosenbrock(x):\n",
        "    \"\"\"\n",
        "    Input: x vector of values\n",
        "    Output: Result of Rosenbrock's banana function\n",
        "    \"\"\"\n",
        "    result = jnp.sum(100.0 * (x[1:] - x[:-1]**2.0)**2.0 + (1 - x[:-1])**2.0,axis=0)\n",
        "    return result\n",
        "\n",
        "def plot_vals(vals, grad=None):\n",
        "    plt.plot(vals,label='primal input')\n",
        "    if grad != None:\n",
        "      plt.plot(grad,label='derivatives')\n",
        "    plt.xlabel('array index')\n",
        "    plt.legend()\n",
        "    plt.title('')\n",
        "    plt.show()"
      ],
      "execution_count": 95,
      "outputs": []
    },
    {
      "cell_type": "markdown",
      "metadata": {
        "id": "3trBKqNG3To6"
      },
      "source": [
        "### 2. Primal Driver\n",
        "1. Calls the Rosenbrock function. \n",
        "2. We have arbitarily created an array `[0.5, 0.5..., 0.5]` as its input."
      ]
    },
    {
      "cell_type": "code",
      "metadata": {
        "id": "pDjU1M8n3To6"
      },
      "source": [
        "def fun_driver(n):\n",
        "    \"\"\"\n",
        "    Input: n array length\n",
        "    Output: Result of Rosenbrock's banana function\n",
        "    \"\"\"\n",
        "    val = jnp.full(n, 0.5) \n",
        "\n",
        "    #compute the result\n",
        "    result = rosenbrock(val)\n",
        "    \n",
        "    print(\"The input is\", val)\n",
        "    print(\"The result of Rosenbrock's is \", result)"
      ],
      "execution_count": 96,
      "outputs": []
    },
    {
      "cell_type": "code",
      "metadata": {
        "id": "6zbAGnJB3To7",
        "colab": {
          "base_uri": "https://localhost:8080/"
        },
        "outputId": "d88573a6-4d70-4c21-db45-1ecf0cf2b4c8"
      },
      "source": [
        "fun_driver(10)"
      ],
      "execution_count": 97,
      "outputs": [
        {
          "output_type": "stream",
          "text": [
            "The input is [0.5 0.5 0.5 0.5 0.5 0.5 0.5 0.5 0.5 0.5]\n",
            "The result of Rosenbrock's is  58.5\n"
          ],
          "name": "stdout"
        }
      ]
    },
    {
      "cell_type": "markdown",
      "metadata": {
        "id": "dyEgww5c3To7"
      },
      "source": [
        "### 3. First look at derivatives: `jax.grad()`\n",
        "1. https://jax.readthedocs.io/en/latest/jax.html#jax.grad\n",
        "2. Computes $J\\cdot v$ for a function that computes a scalar value ($R^n \\rightarrow R$).\n",
        "3. The seed is internally set to `1.0`\n",
        "   (the shape of the seed must match the primal output).   "
      ]
    },
    {
      "cell_type": "code",
      "metadata": {
        "id": "K8AG5wiB3To7"
      },
      "source": [
        "#Create a function that computes the derivatives.\n",
        "#This needs to happen only once.\n",
        "grad_rosenbrock = jax.grad(rosenbrock)\n",
        "\n",
        "def grad_driver(n):\n",
        "    \"\"\"\n",
        "    Input: n array length\n",
        "    Output: Result of Rosenbrock's banana function\n",
        "    \"\"\"\n",
        "    #create the input array\n",
        "    val = jnp.full(n, 0.5) \n",
        "    \n",
        "    #compute the derivatives\n",
        "    result = grad_rosenbrock(val)\n",
        "\n",
        "    plot_vals(val,grad=result)\n",
        "    print(\"The input is\", val)\n",
        "    print(\"The grad result is \", result)"
      ],
      "execution_count": 98,
      "outputs": []
    },
    {
      "cell_type": "code",
      "metadata": {
        "id": "rpvTSprC3To8",
        "colab": {
          "base_uri": "https://localhost:8080/",
          "height": 313
        },
        "outputId": "73ff5a3b-6ba4-40ee-ed92-00ca4adbf53c"
      },
      "source": [
        "grad_driver(10)"
      ],
      "execution_count": 99,
      "outputs": [
        {
          "output_type": "display_data",
          "data": {
            "image/png": "[encoded data removed]",
            "text/plain": [
              "<Figure size 432x288 with 1 Axes>"
            ]
          },
          "metadata": {
            "tags": [],
            "needs_background": "light"
          }
        },
        {
          "output_type": "stream",
          "text": [
            "The input is [0.5 0.5 0.5 0.5 0.5 0.5 0.5 0.5 0.5 0.5]\n",
            "The grad result is  [-51.  -1.  -1.  -1.  -1.  -1.  -1.  -1.  -1.  50.]\n"
          ],
          "name": "stdout"
        }
      ]
    },
    {
      "cell_type": "markdown",
      "metadata": {
        "id": "x9PuEwRW3To8"
      },
      "source": [
        "### 4. Forward mode using: `jax.jacjvp()`\n",
        "1. https://jax.readthedocs.io/en/latest/jax.html#jax.jvp\n",
        "2. Computes $J\\cdot v$ for a function $R^n \\rightarrow R^m$. \n",
        "3. `jax.jacjvp()` requires the input value for the primal function, which is the point where the derivatives are computed.\n",
        "4. `jax.jacjvp()` requires a seed $v$. \n",
        "   (For forward mode the shape of the seed must match the primal input.) \n",
        "5. The code below obtains the entire Jacobian by calling `jax.jacjvp()` multiple times. It sets the input value to an arbitary value and sets the seed to the Cartesian basis vectors."
      ]
    },
    {
      "cell_type": "code",
      "metadata": {
        "id": "zPCa8H6O3To8"
      },
      "source": [
        "def jvp_driver(n):\n",
        "    \"\"\"\n",
        "    Input: n array length\n",
        "    Output: Result of Rosenbrock's banana function\n",
        "    \"\"\"\n",
        "    #create the input array\n",
        "    val = jnp.full(n, 0.5) \n",
        "\n",
        "    tangents = jnp.empty([0])\n",
        "\n",
        "    #compute the derivatives. It takes n calls!\n",
        "    iden_seed = jnp.eye(n)   \n",
        "    for i in range(n):\n",
        "        # jax.jvp must be called once for each input and seed value\n",
        "        primal_output, res = jax.jvp(rosenbrock, (val,), (iden_seed[i],))\n",
        "        tangents = jnp.append(tangents, res)\n",
        "    \n",
        "    plot_vals(val,grad=tangents)\n",
        "    print(\"The input is\", val)\n",
        "    print(\"The jax.jvp result is \", tangents)"
      ],
      "execution_count": 100,
      "outputs": []
    },
    {
      "cell_type": "code",
      "metadata": {
        "scrolled": true,
        "id": "8rnrWIBu3To8",
        "colab": {
          "base_uri": "https://localhost:8080/",
          "height": 313
        },
        "outputId": "8fd8b6dc-00ff-418a-9b58-af7291fc2f7b"
      },
      "source": [
        "jvp_driver(10)"
      ],
      "execution_count": 101,
      "outputs": [
        {
          "output_type": "display_data",
          "data": {
            "image/png": "[encoded data removed]",
            "text/plain": [
              "<Figure size 432x288 with 1 Axes>"
            ]
          },
          "metadata": {
            "tags": [],
            "needs_background": "light"
          }
        },
        {
          "output_type": "stream",
          "text": [
            "The input is [0.5 0.5 0.5 0.5 0.5 0.5 0.5 0.5 0.5 0.5]\n",
            "The jax.jvp result is  [-51.  -1.  -1.  -1.  -1.  -1.  -1.  -1.  -1.  50.]\n"
          ],
          "name": "stdout"
        }
      ]
    },
    {
      "cell_type": "markdown",
      "metadata": {
        "id": "80cZLGm23To9"
      },
      "source": [
        "### 5. Reverse mode using: `jax.jacvjp()`\n",
        "1. https://jax.readthedocs.io/en/latest/jax.html#jax.vjp\n",
        "2. Uses reverse mode, returns a function (`fun_vjp` below) that computes $v \\cdot J$ for a function $R^n \\rightarrow R^m$.\n",
        "3. `jax.jacvjp()` requires the input value for the primal function, which is the point where the derivatives are computed.\n",
        "4. `fun_vjp` requires a seed $v$. For reverse mode the shape of the seed must match the primal output. We have chosen `1.0`. \n",
        "5. Exercise: See how values change as the seed changes."
      ]
    },
    {
      "cell_type": "code",
      "metadata": {
        "id": "bi66GZtX3To9"
      },
      "source": [
        "def vjp_driver(n):    \n",
        "    \"\"\"\n",
        "    Input: n array length\n",
        "    Output: Result of Rosenbrock's banana function\n",
        "    \"\"\"\n",
        "    #create the input array\n",
        "    val = jnp.full(n, 0.5) \n",
        "\n",
        "    #jax.vjp must be called once for each input value\n",
        "    primals, fun_vjp = jax.vjp(rosenbrock, val)\n",
        "    \n",
        "    #compute the derivatives by calling fun_vjp() for the seed value\n",
        "    seed = 1.0\n",
        "    adj_val = fun_vjp(seed)\n",
        "\n",
        "    plot_vals(val,grad=jnp.stack(adj_val[0]))\n",
        "    print(\"The input is\", val)\n",
        "    print(\"The jax.vjp result is \", adj_val[0])"
      ],
      "execution_count": 102,
      "outputs": []
    },
    {
      "cell_type": "code",
      "metadata": {
        "id": "jJ-qVDff3To9",
        "colab": {
          "base_uri": "https://localhost:8080/",
          "height": 313
        },
        "outputId": "3e54eebb-8014-426e-b50a-3cfb253a9f7f"
      },
      "source": [
        "vjp_driver(10)"
      ],
      "execution_count": 103,
      "outputs": [
        {
          "output_type": "display_data",
          "data": {
            "image/png": "[encoded data removed]",
            "text/plain": [
              "<Figure size 432x288 with 1 Axes>"
            ]
          },
          "metadata": {
            "tags": [],
            "needs_background": "light"
          }
        },
        {
          "output_type": "stream",
          "text": [
            "The input is [0.5 0.5 0.5 0.5 0.5 0.5 0.5 0.5 0.5 0.5]\n",
            "The jax.vjp result is  [-51.  -1.  -1.  -1.  -1.  -1.  -1.  -1.  -1.  50.]\n"
          ],
          "name": "stdout"
        }
      ]
    }
  ]
}