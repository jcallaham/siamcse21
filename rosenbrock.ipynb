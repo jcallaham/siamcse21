{
  "nbformat": 4,
  "nbformat_minor": 0,
  "metadata": {
    "kernelspec": {
      "display_name": "Python 3",
      "language": "python",
      "name": "python3"
    },
    "language_info": {
      "codemirror_mode": {
        "name": "ipython",
        "version": 3
      },
      "file_extension": ".py",
      "mimetype": "text/x-python",
      "name": "python",
      "nbconvert_exporter": "python",
      "pygments_lexer": "ipython3",
      "version": "3.9.0"
    },
    "colab": {
      "name": "rosenbrock.ipynb",
      "provenance": [],
      "collapsed_sections": [],
      "include_colab_link": true
    }
  },
  "cells": [
    {
      "cell_type": "markdown",
      "metadata": {
        "id": "view-in-github",
        "colab_type": "text"
      },
      "source": [
        "<a href=\"https://colab.research.google.com/github/sriharikrishna/siamcse21/blob/main/rosenbrock.ipynb\" target=\"_parent\"><img src=\"https://colab.research.google.com/assets/colab-badge.svg\" alt=\"Open In Colab\"/></a>"
      ]
    },
    {
      "cell_type": "markdown",
      "metadata": {
        "id": "B9DO78IJ3To4"
      },
      "source": [
        "# Rosenbrock function\n",
        "Also known as Rosenbrock's valley or Rosenbrock's banana function, the Rosenbrock function is a performace test for optimization. The narrow long valley makes it difficult to find the minimum. \n",
        "\n",
        "\\begin{equation}\n",
        "F(x) = \\sum_{i=0}^{N-1}100(x_{i+1} - x_i^2)^2 + (1 - x_i)^2.\n",
        "\\end{equation}\n"
      ]
    },
    {
      "cell_type": "markdown",
      "metadata": {
        "id": "zUQVBwdc3To5"
      },
      "source": [
        "### 1. Primal Function"
      ]
    },
    {
      "cell_type": "code",
      "metadata": {
        "id": "w1DI9YNu3To6"
      },
      "source": [
        "import jax\n",
        "import jax.numpy as jnp\n",
        "import numpy as np\n",
        "import matplotlib.pyplot as plt\n",
        "\n",
        "def rosenbrock(x):\n",
        "    \"\"\"\n",
        "    Input: x vector of values\n",
        "    Output: Result of Rosenbrock's banana function\n",
        "    \"\"\"\n",
        "    result = jnp.sum(100.0 * (x[1:] - x[:-1]**2.0)**2.0 + (1 - x[:-1])**2.0,axis=0)\n",
        "    return result\n",
        "\n",
        "def plot_vals(vals, grad=None):\n",
        "    plt.plot(vals,label='values')\n",
        "    if grad != None:\n",
        "      plt.plot(grad,label='derivatives')\n",
        "    plt.legend()\n",
        "    plt.title('')\n",
        "    plt.show()"
      ],
      "execution_count": 76,
      "outputs": []
    },
    {
      "cell_type": "markdown",
      "metadata": {
        "id": "3trBKqNG3To6"
      },
      "source": [
        "### 2. Primal Driver"
      ]
    },
    {
      "cell_type": "code",
      "metadata": {
        "id": "pDjU1M8n3To6"
      },
      "source": [
        "def fun_driver(n):\n",
        "    \"\"\"\n",
        "    Input: n array length\n",
        "    Output: Result of Rosenbrock's banana function\n",
        "    \"\"\"\n",
        "    val = jnp.full(n, 0.5) \n",
        "\n",
        "    #compute the result\n",
        "    result = rosenbrock(val)\n",
        "    \n",
        "    print(\"The input is\", val)\n",
        "    print(\"The result of Rosenbrock's is \", result)"
      ],
      "execution_count": 77,
      "outputs": []
    },
    {
      "cell_type": "code",
      "metadata": {
        "id": "6zbAGnJB3To7",
        "colab": {
          "base_uri": "https://localhost:8080/"
        },
        "outputId": "af7e2818-bf9d-4cf0-ec81-9a13cfea96ee"
      },
      "source": [
        "fun_driver(10)"
      ],
      "execution_count": 78,
      "outputs": [
        {
          "output_type": "stream",
          "text": [
            "The input is [0.5 0.5 0.5 0.5 0.5 0.5 0.5 0.5 0.5 0.5]\n",
            "The result of Rosenbrock's is  58.5\n"
          ],
          "name": "stdout"
        }
      ]
    },
    {
      "cell_type": "markdown",
      "metadata": {
        "id": "dyEgww5c3To7"
      },
      "source": [
        "### 3. First look at derivatives: `jax.grad()`\n",
        "1. https://jax.readthedocs.io/en/latest/jax.html#jax.grad\n",
        "2. Computes $\\frac{\\partial{F(x)}}{\\partial{x}}$  for a scalar function, `F(x):` $R^n \\rightarrow R$\n",
        "3. Uses reverse mode internally (it is a wrapper for `jax.jacjvp()`)\n",
        "4. Assumes a seed of `1.0`. \n",
        "   (For reverse mode the shape of the seed must match the primal output.)   "
      ]
    },
    {
      "cell_type": "code",
      "metadata": {
        "id": "K8AG5wiB3To7"
      },
      "source": [
        "#Create a function that computes the derivatives.\n",
        "#This needs to happen only once.\n",
        "grad_rosenbrock = jax.grad(rosenbrock)\n",
        "\n",
        "def grad_driver(n):\n",
        "    \"\"\"\n",
        "    Input: n array length\n",
        "    Output: Result of Rosenbrock's banana function\n",
        "    \"\"\"\n",
        "    #create the input array\n",
        "    val = jnp.full(n, 0.5) \n",
        "    \n",
        "    #compute the derivatives\n",
        "    result = grad_rosenbrock(val)\n",
        "\n",
        "    plot_vals(val,grad=result)\n",
        "    print(\"The input is\", val)\n",
        "    print(\"The grad result is \", result)"
      ],
      "execution_count": 79,
      "outputs": []
    },
    {
      "cell_type": "code",
      "metadata": {
        "id": "rpvTSprC3To8",
        "colab": {
          "base_uri": "https://localhost:8080/",
          "height": 299
        },
        "outputId": "0470293c-6795-47e8-e322-4896b8d53042"
      },
      "source": [
        "grad_driver(10)"
      ],
      "execution_count": 80,
      "outputs": [
        {
          "output_type": "display_data",
          "data": {
            "image/png": "[encoded data removed]",
            "text/plain": [
              "<Figure size 432x288 with 1 Axes>"
            ]
          },
          "metadata": {
            "tags": [],
            "needs_background": "light"
          }
        },
        {
          "output_type": "stream",
          "text": [
            "The input is [0.5 0.5 0.5 0.5 0.5 0.5 0.5 0.5 0.5 0.5]\n",
            "The grad result is  [-51.  -1.  -1.  -1.  -1.  -1.  -1.  -1.  -1.  50.]\n"
          ],
          "name": "stdout"
        }
      ]
    },
    {
      "cell_type": "markdown",
      "metadata": {
        "id": "x9PuEwRW3To8"
      },
      "source": [
        "### 4. Forward mode using: `jax.jacjvp()`\n",
        "1. https://jax.readthedocs.io/en/latest/jax.html#jax.jvp\n",
        "2. Computes $\\frac{\\partial{F(x)}}{\\partial{x}}$  for a function $R^n \\rightarrow R^m$.\n",
        "3. Uses forward mode. \n",
        "4. You must provide the primal and a seed vector. \n",
        "   (For forward mode the shape of the seed must match the primal input.) \n",
        "5. The code below obtains the entire Jacobian by calling `jax.jacjvp()` multiple times using the Cartesian basis vectors."
      ]
    },
    {
      "cell_type": "code",
      "metadata": {
        "id": "zPCa8H6O3To8"
      },
      "source": [
        "def jvp_driver(n):\n",
        "    \"\"\"\n",
        "    Input: n array length\n",
        "    Output: Result of Rosenbrock's banana function\n",
        "    \"\"\"\n",
        "    #create the input array\n",
        "    val = jnp.full(n, 0.5) \n",
        "\n",
        "    tangents = jnp.empty([0])\n",
        "\n",
        "    #compute the derivatives. It takes n calls!\n",
        "    iden_seed = jnp.eye(n)   \n",
        "    for i in range(n):\n",
        "        # jax.jvp must be called once for each input and seed value\n",
        "        primal_output, res = jax.jvp(rosenbrock, (val,), (iden_seed[i],))\n",
        "        tangents = jnp.append(tangents, res)\n",
        "    \n",
        "    plot_vals(val,grad=tangents)\n",
        "    print(\"The input is\", val)\n",
        "    print(\"The jax.jvp result is \", tangents)"
      ],
      "execution_count": 81,
      "outputs": []
    },
    {
      "cell_type": "code",
      "metadata": {
        "scrolled": true,
        "id": "8rnrWIBu3To8",
        "colab": {
          "base_uri": "https://localhost:8080/",
          "height": 299
        },
        "outputId": "6d0ec8b3-40a3-42e3-be39-118596b6a502"
      },
      "source": [
        "jvp_driver(10)"
      ],
      "execution_count": 82,
      "outputs": [
        {
          "output_type": "display_data",
          "data": {
            "image/png": "[encoded data removed]",
            "text/plain": [
              "<Figure size 432x288 with 1 Axes>"
            ]
          },
          "metadata": {
            "tags": [],
            "needs_background": "light"
          }
        },
        {
          "output_type": "stream",
          "text": [
            "The input is [0.5 0.5 0.5 0.5 0.5 0.5 0.5 0.5 0.5 0.5]\n",
            "The jax.jvp result is  [-51.  -1.  -1.  -1.  -1.  -1.  -1.  -1.  -1.  50.]\n"
          ],
          "name": "stdout"
        }
      ]
    },
    {
      "cell_type": "markdown",
      "metadata": {
        "id": "80cZLGm23To9"
      },
      "source": [
        "### 5. Reverse mode using: `jax.jacvjp()`\n",
        "1. https://jax.readthedocs.io/en/latest/jax.html#jax.vjp\n",
        "2. Uses reverse mode, returns a function that computes the adjoints for a funtion $R^n \\rightarrow R^m$.\n",
        "3. You must provide the input value.\n",
        "3. You can provide a seed. For reverse mode the shape of the seed must match the primal output. We have chosen `0.5`. \n",
        "5. Exercise: See how values change as the seed changes."
      ]
    },
    {
      "cell_type": "code",
      "metadata": {
        "id": "bi66GZtX3To9"
      },
      "source": [
        "def vjp_driver(n):    \n",
        "    \"\"\"\n",
        "    Input: n array length\n",
        "    Output: Result of Rosenbrock's banana function\n",
        "    \"\"\"\n",
        "    #create the input array\n",
        "    val = jnp.full(n, 0.5) \n",
        "\n",
        "    #jax.vjp must be called once for each input value\n",
        "    primals, fun_vjp = jax.vjp(rosenbrock, val)\n",
        "    \n",
        "    #compute the derivatives by calling fun_vjp() for the seed value\n",
        "    seed = 1.0\n",
        "    adj_val = fun_vjp(seed)\n",
        "\n",
        "    plot_vals(val,grad=jnp.stack(adj_val[0]))\n",
        "    print(\"The input is\", val)\n",
        "    print(\"The jax.vjp result is \", adj_val[0])"
      ],
      "execution_count": 83,
      "outputs": []
    },
    {
      "cell_type": "code",
      "metadata": {
        "id": "jJ-qVDff3To9",
        "colab": {
          "base_uri": "https://localhost:8080/",
          "height": 299
        },
        "outputId": "0dbe4c3f-12f6-4ba3-9157-35fbfc3c8164"
      },
      "source": [
        "vjp_driver(10)"
      ],
      "execution_count": 84,
      "outputs": [
        {
          "output_type": "display_data",
          "data": {
            "image/png": "[encoded data removed]",
            "text/plain": [
              "<Figure size 432x288 with 1 Axes>"
            ]
          },
          "metadata": {
            "tags": [],
            "needs_background": "light"
          }
        },
        {
          "output_type": "stream",
          "text": [
            "The input is [0.5 0.5 0.5 0.5 0.5 0.5 0.5 0.5 0.5 0.5]\n",
            "The jax.vjp result is  [-51.  -1.  -1.  -1.  -1.  -1.  -1.  -1.  -1.  50.]\n"
          ],
          "name": "stdout"
        }
      ]
    }
  ]
}