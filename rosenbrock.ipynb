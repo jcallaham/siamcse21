{
  "nbformat": 4,
  "nbformat_minor": 0,
  "metadata": {
    "kernelspec": {
      "display_name": "Python 3",
      "language": "python",
      "name": "python3"
    },
    "language_info": {
      "codemirror_mode": {
        "name": "ipython",
        "version": 3
      },
      "file_extension": ".py",
      "mimetype": "text/x-python",
      "name": "python",
      "nbconvert_exporter": "python",
      "pygments_lexer": "ipython3",
      "version": "3.9.0"
    },
    "colab": {
      "name": "rosenbrock.ipynb",
      "provenance": [],
      "collapsed_sections": [],
      "include_colab_link": true
    }
  },
  "cells": [
    {
      "cell_type": "markdown",
      "metadata": {
        "id": "view-in-github",
        "colab_type": "text"
      },
      "source": [
        "<a href=\"https://colab.research.google.com/github/sriharikrishna/siamcse21/blob/main/rosenbrock.ipynb\" target=\"_parent\"><img src=\"https://colab.research.google.com/assets/colab-badge.svg\" alt=\"Open In Colab\"/></a>"
      ]
    },
    {
      "cell_type": "markdown",
      "metadata": {
        "id": "B9DO78IJ3To4"
      },
      "source": [
        "# Rosenbrock function\n",
        "Also known as Rosenbrock's valley or Rosenbrock's banana function, the Rosenbrock function is a performace test for optimization. The narrow long valley makes it difficult to find the minimum. \n",
        "\n",
        "\\begin{equation}\n",
        "F(x) = \\sum_{i=0}^{N-1}100(x_{i+1} - x_i^2)^2 + (1 - x_i)^2.\n",
        "\\end{equation}\n"
      ]
    },
    {
      "cell_type": "markdown",
      "metadata": {
        "id": "zUQVBwdc3To5"
      },
      "source": [
        "### Primal Function"
      ]
    },
    {
      "cell_type": "code",
      "metadata": {
        "id": "w1DI9YNu3To6"
      },
      "source": [
        "import jax\n",
        "from jax import random\n",
        "import jax.numpy as jnp\n",
        "import numpy as np\n",
        "import matplotlib.pyplot as plt\n",
        "\n",
        "def rosenbrock(x):\n",
        "    \"\"\"\n",
        "    Computes the Rosenbrock's banana\n",
        "    x : array of values\n",
        "    \"\"\"\n",
        "    result = jnp.sum(100.0 * (x[1:] - x[:-1]**2.0)**2.0 + (1 - x[:-1])**2.0,axis=0)\n",
        "    return result\n",
        "\n",
        "def plot_vals(vals, grad=None):\n",
        "    plt.plot(vals,label='values')\n",
        "    if grad != None:\n",
        "      plt.plot(grad,label='grad')\n",
        "    plt.legend()\n",
        "    plt.title('')\n",
        "    plt.figure()\n",
        "    plt.show()"
      ],
      "execution_count": 67,
      "outputs": []
    },
    {
      "cell_type": "markdown",
      "metadata": {
        "id": "3trBKqNG3To6"
      },
      "source": [
        "### Primal Driver"
      ]
    },
    {
      "cell_type": "code",
      "metadata": {
        "id": "pDjU1M8n3To6"
      },
      "source": [
        "def rosenbrockdriver(n):\n",
        "    \"\"\"\n",
        "    n must be a positive integer\n",
        "    \"\"\"\n",
        "    \n",
        "    #create a random array\n",
        "    key = random.PRNGKey(0)\n",
        "    val = random.normal(key, (n,), jnp.float64)\n",
        "    \n",
        "    #compute the result\n",
        "    result = rosenbrock(val)\n",
        "    \n",
        "    print(\"The input is\", val)\n",
        "    print(\"The result of Rosenbrock's is \", result)"
      ],
      "execution_count": 68,
      "outputs": []
    },
    {
      "cell_type": "code",
      "metadata": {
        "id": "6zbAGnJB3To7",
        "colab": {
          "base_uri": "https://localhost:8080/"
        },
        "outputId": "35dd59ff-c19b-4700-f5f5-6431417995de"
      },
      "source": [
        "rosenbrockdriver(10)"
      ],
      "execution_count": 69,
      "outputs": [
        {
          "output_type": "stream",
          "text": [
            "The input is [-0.372111    0.26423106 -0.18252774 -0.7368198  -0.44030386 -0.15214427\n",
            " -0.6713536  -0.5908642   0.73168874  0.5673025 ]\n",
            "The result of Rosenbrock's is  362.9996\n"
          ],
          "name": "stdout"
        }
      ]
    },
    {
      "cell_type": "markdown",
      "metadata": {
        "id": "dyEgww5c3To7"
      },
      "source": [
        "### First look at derivatives: `jax.grad()`\n",
        "1. Appropriate for a scalar function\n",
        "2. Uses reverse mode (it is a wrapper for `jax.jacjvp()`)\n",
        "3. Assumes a seed of `1.0`. \n",
        "   (For reverse mode the shape of the seed must match the primal output.)\n",
        "4. Produces $\\frac{\\partial{F(x)}}{\\partial{x}}$   "
      ]
    },
    {
      "cell_type": "code",
      "metadata": {
        "id": "K8AG5wiB3To7"
      },
      "source": [
        "#Create a function that computes the derivatives\n",
        "grad_rosenbrock = jax.grad(rosenbrock)\n",
        "\n",
        "def rosenbrockgrad(n):\n",
        "    \"\"\"\n",
        "    n must be a positive integer\n",
        "    \"\"\"\n",
        "    \n",
        "    #create a random array\n",
        "    key = random.PRNGKey(0)\n",
        "    val = random.normal(key, (n,), jnp.float64)\n",
        "    \n",
        "    #compute the result\n",
        "    result = grad_rosenbrock(val)\n",
        "    plot_vals(val,grad=result)\n",
        "    print(\"The input is\", val)\n",
        "    print(\"The grad result is \", result)"
      ],
      "execution_count": 70,
      "outputs": []
    },
    {
      "cell_type": "code",
      "metadata": {
        "id": "rpvTSprC3To8",
        "colab": {
          "base_uri": "https://localhost:8080/",
          "height": 350
        },
        "outputId": "de10abec-cfb1-430d-984a-7c083f303363"
      },
      "source": [
        "rosenbrockgrad(10)"
      ],
      "execution_count": 71,
      "outputs": [
        {
          "output_type": "display_data",
          "data": {
            "image/png": "[encoded data removed]",
            "text/plain": [
              "<Figure size 432x288 with 1 Axes>"
            ]
          },
          "metadata": {
            "tags": [],
            "needs_background": "light"
          }
        },
        {
          "output_type": "display_data",
          "data": {
            "text/plain": [
              "<Figure size 432x288 with 0 Axes>"
            ]
          },
          "metadata": {
            "tags": []
          }
        },
        {
          "output_type": "stream",
          "text": [
            "The input is [-0.372111    0.26423106 -0.18252774 -0.7368198  -0.44030386 -0.15214427\n",
            " -0.6713536  -0.5908642   0.73168874  0.5673025 ]\n",
            "The grad result is  [  15.975112    50.352394  -109.0627    -447.27954   -260.4622\n",
            " -113.772415  -421.95035   -121.07933     66.63069      6.3868284]\n"
          ],
          "name": "stdout"
        }
      ]
    },
    {
      "cell_type": "markdown",
      "metadata": {
        "id": "x9PuEwRW3To8"
      },
      "source": [
        "### Forward mode using: `jax.jacjvp()`\n",
        "1. https://jax.readthedocs.io/en/latest/jax.html#jax.jvp\n",
        "1. Uses forward mode, returns the gradients for a function $R^n \\rightarrow R^m$. \n",
        "2. You must provide the primal and a seed vector. \n",
        "   (For forward mode the shape of the seed must match the primal input.)\n",
        "4. Produces $\\frac{\\partial{F(x)}}{\\partial{x}}$  \n",
        "5. The code below obtains the entire Jacobian by calling `jax.jacjvp()` multiple times."
      ]
    },
    {
      "cell_type": "code",
      "metadata": {
        "id": "zPCa8H6O3To8"
      },
      "source": [
        "def rosenbrockjvp(n):\n",
        "    \"\"\"\n",
        "    n must be a positive integer\n",
        "    \"\"\"\n",
        "    \n",
        "    #create a random array\n",
        "    key = random.PRNGKey(0)\n",
        "    val = random.truncated_normal(key, -2.048, 2.048, (n,), jnp.float64)\n",
        "    tangents = jnp.empty([0])\n",
        "    iden_seed = jnp.eye(n)\n",
        "    for i in range(n):\n",
        "        primal_output, res = jax.jvp(rosenbrock, (val,), (iden_seed[i],))\n",
        "        tangents = jnp.append(tangents, res)\n",
        "    plot_vals(val,grad=tangents)\n",
        "    print(\"The input is\", val)\n",
        "    print(\"The jax.jvp result is \", tangents)"
      ],
      "execution_count": 72,
      "outputs": []
    },
    {
      "cell_type": "code",
      "metadata": {
        "scrolled": true,
        "id": "8rnrWIBu3To8",
        "colab": {
          "base_uri": "https://localhost:8080/",
          "height": 418
        },
        "outputId": "3f1a4983-995c-495b-b62c-5add869f18b1"
      },
      "source": [
        "rosenbrockjvp(20)"
      ],
      "execution_count": 73,
      "outputs": [
        {
          "output_type": "display_data",
          "data": {
            "image/png": "[encoded data removed]",
            "text/plain": [
              "<Figure size 432x288 with 1 Axes>"
            ]
          },
          "metadata": {
            "tags": [],
            "needs_background": "light"
          }
        },
        {
          "output_type": "display_data",
          "data": {
            "text/plain": [
              "<Figure size 432x288 with 0 Axes>"
            ]
          },
          "metadata": {
            "tags": []
          }
        },
        {
          "output_type": "stream",
          "text": [
            "The input is [ 0.99368227 -0.9163586  -0.5676452  -0.0305921   1.912388   -1.652498\n",
            " -0.74610704 -0.30058542  0.31969216  1.5780985  -0.9695159   1.303695\n",
            " -0.48612535 -0.50308347  0.48105147  0.9941     -0.08385366  0.7563916\n",
            "  1.9761826  -0.5560126 ]\n",
            "The jax.jvp result is  [  756.6816    -900.44324   -364.716      -49.23369   4445.8174\n",
            " -3365.4497    -954.70703   -146.47884   -144.22537   2480.3672\n",
            "  -554.8629    1213.1726    -583.89813   -105.01357   -102.203354\n",
            "   578.8313    -191.45076   -275.42114   3809.3086    -892.26196 ]\n"
          ],
          "name": "stdout"
        }
      ]
    },
    {
      "cell_type": "markdown",
      "metadata": {
        "id": "80cZLGm23To9"
      },
      "source": [
        "### Reverse mode using: `jax.jacvjp()`\n",
        "1. https://jax.readthedocs.io/en/latest/jax.html#jax.vjp\n",
        "2. Uses reverse mode, returns a function that computes the adjoints for a funtion $R^n \\rightarrow R^m$.\n",
        "3. You can provide a seed. We have chosen `0.5` by default. \n",
        "4. Exercise: See how values change as the seed changes.\n",
        "1. https://jax.readthedocs.io/en/latest/jax.html#jax.jvp\n",
        " \n",
        "2. You must provide the primal and a seed vector. \n",
        "   (For forward mode the shape of the seed must match the primal input.)\n",
        "4. Produces $\\frac{\\partial{F(x)}}{\\partial{x}}$  \n",
        "5. The code below obtains the entire Jacobian by calling `jax.jacjvp()` multiple times."
      ]
    },
    {
      "cell_type": "code",
      "metadata": {
        "id": "bi66GZtX3To9"
      },
      "source": [
        "def rosenbrockvjp(n):    \n",
        "    \"\"\"\n",
        "    n must be a positive integer\n",
        "    \"\"\"\n",
        "    \n",
        "    #create a random array\n",
        "    key = random.PRNGKey(0)\n",
        "    val = random.normal(key, (n,), jnp.float64)\n",
        "    primals, fun_vjp = jax.vjp(rosenbrock, val)\n",
        "    \n",
        "    # The argument of fun_vjp() can be any real number\n",
        "    seed = 0.5\n",
        "    adj_val = fun_vjp(seed)\n",
        "    plot_vals(val,grad=jnp.stack(adj_val[0]))\n",
        "\n",
        "    print(\"The input is\", val)\n",
        "    print(\"The jax.vjp result is \", adj_val[0])"
      ],
      "execution_count": 74,
      "outputs": []
    },
    {
      "cell_type": "code",
      "metadata": {
        "id": "jJ-qVDff3To9",
        "colab": {
          "base_uri": "https://localhost:8080/",
          "height": 350
        },
        "outputId": "a9e098b8-d96f-49f7-a063-cdd25b79fe4e"
      },
      "source": [
        "rosenbrockvjp(7)"
      ],
      "execution_count": 75,
      "outputs": [
        {
          "output_type": "display_data",
          "data": {
            "image/png": "[encoded data removed]",
            "text/plain": [
              "<Figure size 432x288 with 1 Axes>"
            ]
          },
          "metadata": {
            "tags": [],
            "needs_background": "light"
          }
        },
        {
          "output_type": "display_data",
          "data": {
            "text/plain": [
              "<Figure size 432x288 with 0 Axes>"
            ]
          },
          "metadata": {
            "tags": []
          }
        },
        {
          "output_type": "stream",
          "text": [
            "The input is [ 0.08086776 -0.38624716 -0.37565574  0.586919   -1.2758199   2.1192\n",
            " -0.85821235]\n",
            "The jax.vjp result is  [   5.4336247  -81.20871    -20.366314   234.36336    -38.8963\n",
            " 2317.4814    -534.9221   ]\n"
          ],
          "name": "stdout"
        }
      ]
    },
    {
      "cell_type": "markdown",
      "metadata": {
        "id": "TaG7fvDy4CWa"
      },
      "source": [
        "# Multiple Input Arrays\n",
        "1. `jax.grad()` `jax.jvp()` `jax.vjp()` all support multiple arrays as *input*"
      ]
    },
    {
      "cell_type": "markdown",
      "metadata": {
        "id": "0t2YnoCz3aHD"
      },
      "source": [
        ""
      ]
    },
    {
      "cell_type": "code",
      "metadata": {
        "id": "pDXr-pU5QLUJ"
      },
      "source": [
        "def rosenbrock2(x,y):\n",
        "    \"\"\"\n",
        "    Computes the Rosenbrock's banana\n",
        "    x : array of values\n",
        "    \"\"\"\n",
        "    result = jnp.sum(100.0 * (x[1:] - x[:-1]**2.0)**2.0 + (1 - x[:-1])**2.0,axis=0)\n",
        "    result += jnp.sum(100.0 * (y[1:] - y[:-1]**2.0)**2.0 + (1 - y[:-1])**2.0,axis=0)\n",
        "    return result"
      ],
      "execution_count": 76,
      "outputs": []
    },
    {
      "cell_type": "code",
      "metadata": {
        "id": "9cQ5TGpWS5aM"
      },
      "source": [
        "#Create a function that computes the derivatives\n",
        "grad_rosenbrock2 = jax.grad(rosenbrock2, argnums=(0,1))\n",
        "\n",
        "def rosenbrock2grad(n1, n2):\n",
        "    \"\"\"\n",
        "    n must be a positive integer\n",
        "    \"\"\"\n",
        "    \n",
        "    #create a random array\n",
        "    key = random.PRNGKey(0)\n",
        "    val1 = random.normal(key, (n1,), jnp.float64)\n",
        "    val2 = random.normal(key, (n2,), jnp.float64)\n",
        "\n",
        "    #compute the result\n",
        "    result1, result2 = grad_rosenbrock2(val1, val2,)\n",
        "    print(\"The input is\", val1, val2)\n",
        "    print(\"The grad result is \", result1, result2)"
      ],
      "execution_count": 77,
      "outputs": []
    },
    {
      "cell_type": "code",
      "metadata": {
        "colab": {
          "base_uri": "https://localhost:8080/"
        },
        "id": "bhIuhOo9mnaH",
        "outputId": "24ef6911-de69-4d93-e9bc-2faff01159b7"
      },
      "source": [
        "rosenbrock2grad(3,4)"
      ],
      "execution_count": 78,
      "outputs": [
        {
          "output_type": "stream",
          "text": [
            "The input is [ 1.8160859  -0.4826233   0.33988902] [ 1.8160858 -0.7548852  0.339889  -0.5348355]\n",
            "The grad result is  [2748.1292   -738.4743     21.392754] [2945.909   -883.55853   41.10733 -130.072  ]\n"
          ],
          "name": "stdout"
        }
      ]
    },
    {
      "cell_type": "code",
      "metadata": {
        "id": "TfwW-ouTsbk7"
      },
      "source": [
        "def rosenbrock2jvp(n1, n2):\n",
        "    \"\"\"\n",
        "    n must be a positive integer\n",
        "    \"\"\"\n",
        "    \n",
        "    #create a random array\n",
        "    key = random.PRNGKey(0)\n",
        "    val1 = random.normal(key, (n1,), jnp.float64)\n",
        "    val2 = random.normal(key, (n2,), jnp.float64)\n",
        "    tangents = jnp.empty([0])\n",
        "    iden_seed1 = jnp.eye(n1)\n",
        "    iden_seed2 = jnp.eye(n2)\n",
        "    zero1 = jnp.zeros(n1)\n",
        "    zero2 = jnp.zeros(n2)\n",
        "    for i in range(n1):\n",
        "        primal_output, res = jax.jvp(rosenbrock2, (val1, val2), (iden_seed1[i],zero2))\n",
        "        tangents = jnp.append(tangents, res)\n",
        "    for i in range(n2):\n",
        "        primal_output, res = jax.jvp(rosenbrock2, (val1, val2), (zero1, iden_seed2[i],))\n",
        "        tangents = jnp.append(tangents, res)\n",
        "    print(\"The input is\", val1, val2)\n",
        "    print(\"The jax.jvp result is \", tangents)"
      ],
      "execution_count": 79,
      "outputs": []
    },
    {
      "cell_type": "code",
      "metadata": {
        "scrolled": true,
        "colab": {
          "base_uri": "https://localhost:8080/"
        },
        "id": "aB-FzgY2zMce",
        "outputId": "72372477-a1c3-4fe4-dcce-902f3cfb882b"
      },
      "source": [
        "rosenbrock2jvp(3,4)"
      ],
      "execution_count": 80,
      "outputs": [
        {
          "output_type": "stream",
          "text": [
            "The input is [ 1.8160859  -0.4826233   0.33988902] [ 1.8160858 -0.7548852  0.339889  -0.5348355]\n",
            "The jax.jvp result is  [2748.1292   -738.4743     21.392754 2945.909    -883.55853    41.107338\n",
            " -130.072   ]\n"
          ],
          "name": "stdout"
        }
      ]
    },
    {
      "cell_type": "code",
      "metadata": {
        "id": "9FWzy7r_02CO"
      },
      "source": [
        "def rosenbrock2vjp(n1,n2):    \n",
        "    \"\"\"\n",
        "    n must be a positive integer\n",
        "    \"\"\"\n",
        "    \n",
        "    #create a random array\n",
        "    key = random.PRNGKey(0)\n",
        "    val1 = random.normal(key, (n1,), jnp.float64)\n",
        "    val2 = random.normal(key, (n2,), jnp.float64)\n",
        "    primals, fun_vjp = jax.vjp(rosenbrock2, val1,val2)\n",
        "    \n",
        "    # The argument of fun_vjp() can be any real number\n",
        "    seed = 0.5\n",
        "    adj_val1, adj_val2 = fun_vjp(seed)\n",
        "    print(\"The input is\", val1, val2)\n",
        "    print(\"The jax.vjp result is \", np.array(adj_val1),np.array(adj_val2))"
      ],
      "execution_count": 81,
      "outputs": []
    },
    {
      "cell_type": "code",
      "metadata": {
        "scrolled": true,
        "colab": {
          "base_uri": "https://localhost:8080/"
        },
        "id": "tS8H7wJ91PUV",
        "outputId": "4fd18d96-9ed2-4965-f547-20fc73fd9ca9"
      },
      "source": [
        "rosenbrock2vjp(3,4)"
      ],
      "execution_count": 82,
      "outputs": [
        {
          "output_type": "stream",
          "text": [
            "The input is [ 1.8160859  -0.4826233   0.33988902] [ 1.8160858 -0.7548852  0.339889  -0.5348355]\n",
            "The jax.vjp result is  [1374.0646   -369.23715    10.696377] [1472.9545   -441.77927    20.553665  -65.036   ]\n"
          ],
          "name": "stdout"
        }
      ]
    }
  ]
}