{
  "nbformat": 4,
  "nbformat_minor": 0,
  "metadata": {
    "colab": {
      "name": "norm_nm.ipynb",
      "provenance": [],
      "collapsed_sections": [],
      "authorship_tag": "ABX9TyPwRwTr5DNJ9JKVBivxYwVz",
      "include_colab_link": true
    },
    "kernelspec": {
      "name": "python3",
      "display_name": "Python 3"
    }
  },
  "cells": [
    {
      "cell_type": "markdown",
      "metadata": {
        "id": "view-in-github",
        "colab_type": "text"
      },
      "source": [
        "<a href=\"https://colab.research.google.com/github/sriharikrishna/siamcse21/blob/main/norm_nm.ipynb\" target=\"_parent\"><img src=\"https://colab.research.google.com/assets/colab-badge.svg\" alt=\"Open In Colab\"/></a>"
      ]
    },
    {
      "cell_type": "markdown",
      "metadata": {
        "id": "lQ-C6hQzdk73"
      },
      "source": [
        "# Performance testing derivative comparison\n",
        "This notebook compares different modes of derivative computation. "
      ]
    },
    {
      "cell_type": "code",
      "metadata": {
        "id": "0CTSejuRDJvh"
      },
      "source": [
        "import jax\n",
        "import jax.numpy as jnp\n",
        "from jax.config import config\n",
        "config.update(\"jax_enable_x64\", True)\n",
        "from scipy.optimize import minimize\n",
        "from jax import random\n",
        "from jax import float0\n",
        "import time\n",
        "from jax import jacfwd, jacrev\n",
        "import numpy as np\n",
        "\n",
        "import matplotlib.pyplot as plt\n",
        "from matplotlib import cm\n",
        "from matplotlib.ticker import LinearLocator"
      ],
      "execution_count": null,
      "outputs": []
    },
    {
      "cell_type": "markdown",
      "metadata": {
        "id": "M9JWYVVEEGQM"
      },
      "source": [
        "# Primal Function \n",
        " The function takes an input vector of length $n$ and computes $m$ norms. The function is $R^n \\rightarrow R^m $."
      ]
    },
    {
      "cell_type": "code",
      "metadata": {
        "id": "-K-6UR3qDO5T"
      },
      "source": [
        "def fun(x,m):\n",
        "  \"\"\"\n",
        "  Input: x vector of values\n",
        "  Output: vector of m norm values\n",
        "  \"\"\"\n",
        "  return jnp.array([jnp.linalg.norm(x, ord=i) for i in range(m)])"
      ],
      "execution_count": null,
      "outputs": []
    },
    {
      "cell_type": "markdown",
      "metadata": {
        "id": "86tOXkBhElkd"
      },
      "source": [
        "# Derivative Drivers\n",
        "We compute the derivatives in 4 ways. \n",
        "1. Calling `jax.jvp` `n` times. \n",
        "2. Calling `jax.vjp` `m` times. \n",
        "3. Calling `jax.jacfwd` once.\n",
        "4. Calling `jax.jacrev` once."
      ]
    },
    {
      "cell_type": "code",
      "metadata": {
        "id": "BONdzPrKDRde"
      },
      "source": [
        "def jvp_driver(val, n, m):\n",
        "    \"\"\"\n",
        "    Input: n array length\n",
        "    Output: Derivatives of the function\n",
        "    \"\"\"\n",
        "    tangents = np.zeros((m,n))\n",
        "\n",
        "    #compute the derivatives. It takes n calls\n",
        "    iden_seed = jnp.eye(n)\n",
        "    for i in range(n):\n",
        "        seed = jnp.zeros(n)\n",
        "        seed = jax.ops.index_update(seed, jax.ops.index[i], 1)\n",
        "        # jax.jvp must be called once for each input and seed value\n",
        "        primal_output, res = jax.jvp(lambda x: fun(x,m), (val,), (seed,))\n",
        "        tangents[:,i] = np.array(res)\n",
        "    return tangents\n"
      ],
      "execution_count": null,
      "outputs": []
    },
    {
      "cell_type": "code",
      "metadata": {
        "id": "0pR9SuXSDby_"
      },
      "source": [
        "def vjp_driver(val, n, m):\n",
        "    \"\"\"\n",
        "    Input: n array length\n",
        "    Output: Derivatives of the function\n",
        "    \"\"\"\n",
        "    #jax.vjp must be called once for each input value\n",
        "    primals, fun_vjp = jax.vjp(lambda x: fun(x,m), val)\n",
        "    \n",
        "    adjoints = np.zeros((m,n))\n",
        "    #compute the derivatives. It takes m calls\n",
        "    for i in range(m):\n",
        "        seed = jnp.zeros(m)\n",
        "        seed = jax.ops.index_update(seed, jax.ops.index[i], 1)\n",
        "        res = fun_vjp((seed))\n",
        "        adjoints[i,:] = np.array(res)\n",
        "    return adjoints"
      ],
      "execution_count": null,
      "outputs": []
    },
    {
      "cell_type": "code",
      "metadata": {
        "id": "gIdO8roHDtla"
      },
      "source": [
        "fun_jacrev = jax.jacrev(fun)\n",
        "fun_jacfwd = jax.jacfwd(fun)"
      ],
      "execution_count": null,
      "outputs": []
    },
    {
      "cell_type": "markdown",
      "metadata": {
        "id": "4ogKFGaacI0D"
      },
      "source": [
        "# Compute Runtimes"
      ]
    },
    {
      "cell_type": "code",
      "metadata": {
        "id": "WvdjHBDGDqcQ"
      },
      "source": [
        "grid_size = 4\n",
        "n_vals = {i:4**i for i in range(grid_size)}\n",
        "m_vals = {i:4**i for i in range(grid_size)}\n",
        "\n",
        "def compute_times(derfun):\n",
        "  times = np.zeros((grid_size,grid_size))\n",
        "  for idxn in n_vals:\n",
        "    n = n_vals[idxn]\n",
        "    val = random.normal(random.PRNGKey(0), (n,), jnp.float64)\n",
        "    for idxm in m_vals:\n",
        "      m = m_vals[idxm]\n",
        "      tic = time.perf_counter()\n",
        "      u = derfun(val,n,m)\n",
        "      toc = time.perf_counter()\n",
        "      times[idxn,idxm] = toc-tic\n",
        "      print(\"Completed \", \"n=\", n,\"\\t m=\", m, \"\\t time \", toc-tic)\n",
        "  return times\n",
        "\n",
        "times_fun = compute_times(lambda val,n,m: fun(val,m))\n",
        "times_vjp = compute_times(vjp_driver)\n",
        "times_vjp = np.divide(times_vjp,times_fun)\n",
        "times_jvp = compute_times(jvp_driver)\n",
        "times_jvp = np.divide(times_jvp,times_fun)\n",
        "times_jf = compute_times(lambda val,n,m: fun_jacfwd(val,m))\n",
        "times_jf = np.divide(times_jf,times_fun)\n",
        "times_jr = compute_times(lambda val,n,m: fun_jacrev(val,m))\n",
        "times_jr = np.divide(times_jr,times_fun)"
      ],
      "execution_count": null,
      "outputs": []
    },
    {
      "cell_type": "markdown",
      "metadata": {
        "id": "5dcg_AiVcP2r"
      },
      "source": [
        "# Plot Runtimes"
      ]
    },
    {
      "cell_type": "code",
      "metadata": {
        "id": "rDuk_Y_8D8sI"
      },
      "source": [
        "def plot_fun(ax, n_vals, m_vals, times, maxval, title=None):\n",
        "  # Plot the surface.\n",
        "  X, Y = np.meshgrid(list(n_vals.keys()), list(m_vals.keys()))\n",
        "  surf = ax.plot_surface(X, Y, times, cmap=cm.coolwarm,\n",
        "                        antialiased=True)\n",
        "  # Customize the z  axis.\n",
        "  ax.set_zlim(0, maxval*1.1)\n",
        "\n",
        "  coordsn = list(n_vals.keys())\n",
        "  ax.set_xticks(coordsn, [\"$4^{:d}$\".format(i) for i in coordsn])\n",
        "  \n",
        "  coordsm = list(m_vals.keys())\n",
        "  ax.set_yticks(coordsm, [\"$4^{:d}$\".format(i) for i in coordsm])\n",
        "  \n",
        "  ax.invert_yaxis()\n",
        "  \n",
        "  ax.title.set_text(title)\n",
        "  ax.set_xlabel('#inputs')\n",
        "  ax.set_ylabel('#outputs')\n",
        "\n",
        "fig, ax = plt.subplots(subplot_kw={\"projection\": \"3d\"}, nrows=2, ncols=2)\n",
        "maxval = max(np.amax(times_vjp), np.amax(times_jvp), np.amax(times_jf), np.amax(times_jr))\n",
        "plot_fun(ax[0,0], n_vals, m_vals, times_vjp, maxval, title=\"Time: jax.vjp()\")\n",
        "plot_fun(ax[0,1], n_vals, m_vals, times_jvp, maxval, title=\"Time : jaxjvp()\")\n",
        "plot_fun(ax[1,0], n_vals, m_vals, times_jr, maxval, title=\"Time: jax.jacrev()\")\n",
        "plot_fun(ax[1,1], n_vals, m_vals, times_jf, maxval, title=\"Time: jax.jacfwd()\")\n",
        "plt.show()"
      ],
      "execution_count": null,
      "outputs": []
    }
  ]
}