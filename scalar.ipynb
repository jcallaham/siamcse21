{
  "nbformat": 4,
  "nbformat_minor": 0,
  "metadata": {
    "kernelspec": {
      "display_name": "Python 3",
      "language": "python",
      "name": "python3"
    },
    "language_info": {
      "codemirror_mode": {
        "name": "ipython",
        "version": 3
      },
      "file_extension": ".py",
      "mimetype": "text/x-python",
      "name": "python",
      "nbconvert_exporter": "python",
      "pygments_lexer": "ipython3",
      "version": "3.9.0"
    },
    "colab": {
      "name": "scalar.ipynb",
      "provenance": [],
      "collapsed_sections": [],
      "include_colab_link": true
    }
  },
  "cells": [
    {
      "cell_type": "markdown",
      "metadata": {
        "id": "view-in-github",
        "colab_type": "text"
      },
      "source": [
        "<a href=\"https://colab.research.google.com/github/sriharikrishna/siamcse21/blob/main/scalar.ipynb\" target=\"_parent\"><img src=\"https://colab.research.google.com/assets/colab-badge.svg\" alt=\"Open In Colab\"/></a>"
      ]
    },
    {
      "cell_type": "markdown",
      "metadata": {
        "id": "B9DO78IJ3To4"
      },
      "source": [
        "# Exercises\n",
        "1. Write your own scalar function\n",
        "2. Use jax.grad() jax.jvp() jax.vjp()\n",
        "\n"
      ]
    },
    {
      "cell_type": "markdown",
      "metadata": {
        "id": "zUQVBwdc3To5"
      },
      "source": [
        "### 1. Primal Function\n",
        "1. Evaluates the scalar function for an arbitary input vector"
      ]
    },
    {
      "cell_type": "code",
      "metadata": {
        "id": "w1DI9YNu3To6"
      },
      "source": [
        "import jax\n",
        "from jax import random\n",
        "import jax.numpy as jnp\n",
        "import numpy as np\n",
        "import matplotlib.pyplot as plt\n",
        "\n",
        "def fun(x):\n",
        "    \"\"\"\n",
        "    Input: x vector of values\n",
        "    Output: Result of a scalar function\n",
        "    \"\"\"\n",
        "    #Enter your computation here OR uncomment any of the following \n",
        "    #Speelpenning function\n",
        "    result = jnp.prod(x)\n",
        "\n",
        "    #\n",
        "    #\n",
        "    return result\n",
        "\n",
        "def plot_vals(vals, grad=None):\n",
        "    plt.plot(vals,label='primal input')\n",
        "    if grad != None:\n",
        "      plt.plot(grad,label='derivatives')\n",
        "    plt.xlabel('array index')\n",
        "    plt.legend()\n",
        "    plt.title('')\n",
        "    plt.show()"
      ],
      "execution_count": 1,
      "outputs": []
    },
    {
      "cell_type": "markdown",
      "metadata": {
        "id": "3trBKqNG3To6"
      },
      "source": [
        "### 2. Primal Driver\n",
        "1. Calls the scalar function. \n",
        "2. We have created a random array as its input."
      ]
    },
    {
      "cell_type": "code",
      "metadata": {
        "id": "pDjU1M8n3To6"
      },
      "source": [
        "def fun_driver(n):\n",
        "    \"\"\"\n",
        "    Input: n array length\n",
        "    Output: Result of scalar function\n",
        "    \"\"\"\n",
        "    #create a random array\n",
        "    key = random.PRNGKey(0)\n",
        "    val = random.normal(key, (n,), jnp.float64)\n",
        "\n",
        "    #create a array of constant elememnts\n",
        "    #val = jnp.full(n, 0.5)\n",
        "\n",
        "    #compute the result\n",
        "    result = fun(val)\n",
        "\n",
        "    print(\"The input is\", val)\n",
        "    print(\"The result is \", result)"
      ],
      "execution_count": 2,
      "outputs": []
    },
    {
      "cell_type": "code",
      "metadata": {
        "id": "6zbAGnJB3To7",
        "colab": {
          "base_uri": "https://localhost:8080/"
        },
        "outputId": "d7b11c10-1fcd-4562-b985-43df3148f087"
      },
      "source": [
        "fun_driver(10)"
      ],
      "execution_count": 3,
      "outputs": [
        {
          "output_type": "stream",
          "text": [
            "WARNING:absl:No GPU/TPU found, falling back to CPU. (Set TF_CPP_MIN_LOG_LEVEL=0 and rerun for more info.)\n"
          ],
          "name": "stderr"
        },
        {
          "output_type": "stream",
          "text": [
            "The input is [-0.372111    0.26423106 -0.18252774 -0.7368198  -0.44030386 -0.15214427\n",
            " -0.6713536  -0.5908642   0.73168874  0.5673025 ]\n",
            "The result is  -0.00014585949\n"
          ],
          "name": "stdout"
        }
      ]
    },
    {
      "cell_type": "markdown",
      "metadata": {
        "id": "dyEgww5c3To7"
      },
      "source": [
        "### 3. First look at derivatives: `jax.grad()`\n",
        "1. https://jax.readthedocs.io/en/latest/jax.html#jax.grad\n",
        "2. Computes $J\\cdot v$ for a function that computes a scalar value ($R^n \\rightarrow R$).\n",
        "3. The seed is internally set to `1.0`\n",
        "   (the shape of the seed must match the primal output)"
      ]
    },
    {
      "cell_type": "code",
      "metadata": {
        "id": "K8AG5wiB3To7"
      },
      "source": [
        "#Create a function that computes the derivatives\n",
        "grad_fun = jax.grad(fun)\n",
        "\n",
        "def grad_driver(n):\n",
        "    \"\"\"\n",
        "    Input: n array length\n",
        "    Output: Derivatives of the scalar function\n",
        "    \"\"\"\n",
        "    \n",
        "    #create a random array\n",
        "    key = random.PRNGKey(0)\n",
        "    val = random.normal(key, (n,), jnp.float64)\n",
        "\n",
        "    #create a array of constant elememnts\n",
        "    #val = jnp.full(n, 0.5)\n",
        "    \n",
        "    #compute the result\n",
        "    result = grad_fun(val)\n",
        "    print(\"The input is\", val)\n",
        "    print(\"The grad result is \", result)"
      ],
      "execution_count": 4,
      "outputs": []
    },
    {
      "cell_type": "code",
      "metadata": {
        "id": "rpvTSprC3To8",
        "colab": {
          "base_uri": "https://localhost:8080/"
        },
        "outputId": "9bded233-cee5-4776-f2d0-05ff242af24a"
      },
      "source": [
        "grad_driver(10)"
      ],
      "execution_count": 5,
      "outputs": [
        {
          "output_type": "stream",
          "text": [
            "The input is [-0.372111    0.26423106 -0.18252774 -0.7368198  -0.44030386 -0.15214427\n",
            " -0.6713536  -0.5908642   0.73168874  0.5673025 ]\n",
            "The grad result is  [ 0.00039198 -0.00055201  0.00079911  0.00019796  0.00033127  0.00095869\n",
            "  0.00021726  0.00024686 -0.00019935 -0.00025711]\n"
          ],
          "name": "stdout"
        }
      ]
    },
    {
      "cell_type": "markdown",
      "metadata": {
        "id": "x9PuEwRW3To8"
      },
      "source": [
        "### 4. Forward mode using: `jax.jacjvp()`\n",
        "1. https://jax.readthedocs.io/en/latest/jax.html#jax.vjp\n",
        "2. Uses reverse mode, returns a function (`fun_vjp` below) that computes $v \\cdot J$ for a function $R^n \\rightarrow R^m$.\n",
        "3. `jax.jacvjp()` requires the input value for the primal function, which is the point where the derivatives are computed.\n",
        "4. `fun_vjp` requires a seed $v$. For reverse mode the shape of the seed must match the primal output. We have chosen `0.5`. \n",
        "5. Exercise: See how values change as the seed changes."
      ]
    },
    {
      "cell_type": "code",
      "metadata": {
        "id": "zPCa8H6O3To8"
      },
      "source": [
        "def jvp_driver(n):\n",
        "    \"\"\"\n",
        "    Input: n array length\n",
        "    Output: Derivatives of the scalar function\n",
        "    \"\"\"\n",
        "    #create a random array\n",
        "    key = random.PRNGKey(0)\n",
        "    val = random.normal(key, (n,), jnp.float64)\n",
        "\n",
        "    #create a array of constant elememnts\n",
        "    #val = jnp.full(n, 0.5)\n",
        "\n",
        "    tangents = jnp.empty([0])\n",
        "\n",
        "    #compute the derivatives. It takes n calls!\n",
        "    iden_seed = jnp.eye(n)   \n",
        "    for i in range(n):\n",
        "        # jax.jvp must be called once for each input and seed value\n",
        "        primal_output, res = jax.jvp(fun, (val,), (iden_seed[i],))\n",
        "        tangents = jnp.append(tangents, res)\n",
        "    \n",
        "    plot_vals(val,grad=tangents)\n",
        "    print(\"The input is\", val)\n",
        "    print(\"The jax.jvp result is \", tangents)"
      ],
      "execution_count": 6,
      "outputs": []
    },
    {
      "cell_type": "code",
      "metadata": {
        "scrolled": true,
        "id": "8rnrWIBu3To8",
        "colab": {
          "base_uri": "https://localhost:8080/",
          "height": 351
        },
        "outputId": "a3cac82a-da59-4b88-ab77-9ccb8a724a0a"
      },
      "source": [
        "jvp_driver(10)"
      ],
      "execution_count": 7,
      "outputs": [
        {
          "output_type": "display_data",
          "data": {
            "image/png": "[encoded data removed]",
            "text/plain": [
              "<Figure size 432x288 with 1 Axes>"
            ]
          },
          "metadata": {
            "tags": [],
            "needs_background": "light"
          }
        },
        {
          "output_type": "stream",
          "text": [
            "The input is [-0.372111    0.26423106 -0.18252774 -0.7368198  -0.44030386 -0.15214427\n",
            " -0.6713536  -0.5908642   0.73168874  0.5673025 ]\n",
            "The jax.jvp result is  [ 0.00039198 -0.00055201  0.00079911  0.00019796  0.00033127  0.00095869\n",
            "  0.00021726  0.00024686 -0.00019935 -0.00025711]\n"
          ],
          "name": "stdout"
        }
      ]
    },
    {
      "cell_type": "markdown",
      "metadata": {
        "id": "80cZLGm23To9"
      },
      "source": [
        "### 5. Reverse mode using: `jax.jacvjp()`\n",
        "1. https://jax.readthedocs.io/en/latest/jax.html#jax.vjp\n",
        "2. Uses reverse mode, returns a function that computes the adjoints for a funtion $R^n \\rightarrow R^m$.\n",
        "3. You must provide the input value.\n",
        "3. You can provide a seed. For reverse mode the shape of the seed must match the primal output. We have chosen `1.0`. \n",
        "5. Exercise: See how values change as the seed changes.\n"
      ]
    },
    {
      "cell_type": "code",
      "metadata": {
        "id": "bi66GZtX3To9"
      },
      "source": [
        "def vjp_driver(n):    \n",
        "    \"\"\"\n",
        "    Input: n array length\n",
        "    Output: Result of Rosenbrock's banana function\n",
        "    \"\"\"\n",
        "    #create a random array\n",
        "    key = random.PRNGKey(0)\n",
        "    val = random.normal(key, (n,), jnp.float64)\n",
        "\n",
        "    #create a array of constant elememnts\n",
        "    #val = jnp.full(n, 0.5)\n",
        "\n",
        "    #jax.vjp must be called once for each input value\n",
        "    primals, fun_vjp = jax.vjp(fun, val)\n",
        "    \n",
        "    #compute the derivatives by calling fun_vjp() for the seed value\n",
        "    seed = 1.0\n",
        "    adj_val = fun_vjp(seed)\n",
        "\n",
        "    plot_vals(val,grad=jnp.stack(adj_val[0]))\n",
        "    print(\"The input is\", val)\n",
        "    print(\"The jax.vjp result is \", adj_val[0])"
      ],
      "execution_count": 8,
      "outputs": []
    },
    {
      "cell_type": "code",
      "metadata": {
        "id": "jJ-qVDff3To9",
        "colab": {
          "base_uri": "https://localhost:8080/",
          "height": 351
        },
        "outputId": "4ed0c9ca-d2db-44c0-9fc8-ea862d953f1d"
      },
      "source": [
        "vjp_driver(10)"
      ],
      "execution_count": 9,
      "outputs": [
        {
          "output_type": "display_data",
          "data": {
            "image/png": "[encoded data removed]",
            "text/plain": [
              "<Figure size 432x288 with 1 Axes>"
            ]
          },
          "metadata": {
            "tags": [],
            "needs_background": "light"
          }
        },
        {
          "output_type": "stream",
          "text": [
            "The input is [-0.372111    0.26423106 -0.18252774 -0.7368198  -0.44030386 -0.15214427\n",
            " -0.6713536  -0.5908642   0.73168874  0.5673025 ]\n",
            "The jax.vjp result is  [ 0.00039198 -0.00055201  0.00079911  0.00019796  0.00033127  0.00095869\n",
            "  0.00021726  0.00024686 -0.00019935 -0.00025711]\n"
          ],
          "name": "stdout"
        }
      ]
    },
    {
      "cell_type": "markdown",
      "metadata": {
        "id": "0t2YnoCz3aHD"
      },
      "source": [
        ""
      ]
    }
  ]
}