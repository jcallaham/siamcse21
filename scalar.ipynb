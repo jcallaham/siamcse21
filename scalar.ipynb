{
  "nbformat": 4,
  "nbformat_minor": 0,
  "metadata": {
    "kernelspec": {
      "display_name": "Python 3",
      "language": "python",
      "name": "python3"
    },
    "language_info": {
      "codemirror_mode": {
        "name": "ipython",
        "version": 3
      },
      "file_extension": ".py",
      "mimetype": "text/x-python",
      "name": "python",
      "nbconvert_exporter": "python",
      "pygments_lexer": "ipython3",
      "version": "3.9.0"
    },
    "colab": {
      "name": "scalar.ipynb",
      "provenance": [],
      "collapsed_sections": [],
      "include_colab_link": true
    }
  },
  "cells": [
    {
      "cell_type": "markdown",
      "metadata": {
        "id": "view-in-github",
        "colab_type": "text"
      },
      "source": [
        "<a href=\"https://colab.research.google.com/github/sriharikrishna/siamcse21/blob/main/scalar.ipynb\" target=\"_parent\"><img src=\"https://colab.research.google.com/assets/colab-badge.svg\" alt=\"Open In Colab\"/></a>"
      ]
    },
    {
      "cell_type": "markdown",
      "metadata": {
        "id": "B9DO78IJ3To4"
      },
      "source": [
        "# Exercises\n",
        "1. Write your own scalar function\n",
        "2. Use jax.grad() jax.jvp() jax.vjp()\n",
        "\n"
      ]
    },
    {
      "cell_type": "markdown",
      "metadata": {
        "id": "zUQVBwdc3To5"
      },
      "source": [
        "### 1. Primal Function"
      ]
    },
    {
      "cell_type": "code",
      "metadata": {
        "id": "w1DI9YNu3To6"
      },
      "source": [
        "import jax\n",
        "from jax import random\n",
        "import jax.numpy as jnp\n",
        "import numpy as np\n",
        "import matplotlib.pyplot as plt\n",
        "\n",
        "def fun(x):\n",
        "    \"\"\"\n",
        "    Input: x vector of values\n",
        "    Output: Result of a scalar function\n",
        "    \"\"\"\n",
        "    #Enter your computation here OR uncomment any of the following \n",
        "    #Speelpenning function\n",
        "    result = jnp.prod(x)\n",
        "\n",
        "    #\n",
        "    #\n",
        "    return result\n",
        "\n",
        "def plot_vals(vals, grad=None):\n",
        "    plt.plot(vals,label='values')\n",
        "    if grad != None:\n",
        "      plt.plot(grad,label='derivatives')\n",
        "    plt.legend()\n",
        "    plt.title('')\n",
        "    plt.show()"
      ],
      "execution_count": null,
      "outputs": []
    },
    {
      "cell_type": "markdown",
      "metadata": {
        "id": "3trBKqNG3To6"
      },
      "source": [
        "### 2. Primal Driver"
      ]
    },
    {
      "cell_type": "code",
      "metadata": {
        "id": "pDjU1M8n3To6"
      },
      "source": [
        "def fun_driver(n):\n",
        "    \"\"\"\n",
        "    Input: n array length\n",
        "    Output: Result of scalar function\n",
        "    \"\"\"\n",
        "    #create a random array\n",
        "    key = random.PRNGKey(0)\n",
        "    val = random.normal(key, (n,), jnp.float64)\n",
        "\n",
        "    #create a array of constant elememnts\n",
        "    #val = jnp.full(n, 0.5)\n",
        "\n",
        "    #compute the result\n",
        "    result = fun(val)\n",
        "\n",
        "    print(\"The input is\", val)\n",
        "    print(\"The result is \", result)"
      ],
      "execution_count": null,
      "outputs": []
    },
    {
      "cell_type": "code",
      "metadata": {
        "id": "6zbAGnJB3To7",
        "colab": {
          "base_uri": "https://localhost:8080/"
        },
        "outputId": "e76960d2-5e4b-4569-af97-ae5214c0ac3e"
      },
      "source": [
        "fun_driver(10)"
      ],
      "execution_count": null,
      "outputs": [
        {
          "output_type": "stream",
          "text": [
            "The input is [-0.372111    0.2642311  -0.18252774 -0.7368198  -0.44030386 -0.15214427\n",
            " -0.6713536  -0.59086424  0.73168874  0.56730247]\n",
            "The result is  -0.00014585949\n"
          ],
          "name": "stdout"
        }
      ]
    },
    {
      "cell_type": "markdown",
      "metadata": {
        "id": "dyEgww5c3To7"
      },
      "source": [
        "### 3. First look at derivatives: `jax.grad()`\n",
        "1. https://jax.readthedocs.io/en/latest/jax.html#jax.grad\n",
        "2. Computes $\\frac{\\partial{F(x)}}{\\partial{x}}$  for a scalar function, `F(x):` $R^n \\rightarrow R$\n",
        "3. Uses reverse mode internally (it is a wrapper for `jax.jacjvp()`)\n",
        "4. Assumes a seed of `1.0`. \n",
        "   (For reverse mode the shape of the seed must match the primal output.)    "
      ]
    },
    {
      "cell_type": "code",
      "metadata": {
        "id": "K8AG5wiB3To7"
      },
      "source": [
        "#Create a function that computes the derivatives\n",
        "grad_fun = jax.grad(fun)\n",
        "\n",
        "def grad_driver(n):\n",
        "    \"\"\"\n",
        "    Input: n array length\n",
        "    Output: Derivatives of the scalar function\n",
        "    \"\"\"\n",
        "    \n",
        "    #create a random array\n",
        "    key = random.PRNGKey(0)\n",
        "    val = random.normal(key, (n,), jnp.float64)\n",
        "\n",
        "    #create a array of constant elememnts\n",
        "    #val = jnp.full(n, 0.5)\n",
        "    \n",
        "    #compute the result\n",
        "    result = grad_fun(val)\n",
        "    print(\"The input is\", val)\n",
        "    print(\"The grad result is \", result)"
      ],
      "execution_count": null,
      "outputs": []
    },
    {
      "cell_type": "code",
      "metadata": {
        "id": "rpvTSprC3To8",
        "colab": {
          "base_uri": "https://localhost:8080/"
        },
        "outputId": "b738300c-7441-454b-a77f-0c7ae2752c4a"
      },
      "source": [
        "grad_driver(10)"
      ],
      "execution_count": null,
      "outputs": [
        {
          "output_type": "stream",
          "text": [
            "The input is [-0.372111    0.2642311  -0.18252774 -0.7368198  -0.44030386 -0.15214427\n",
            " -0.6713536  -0.59086424  0.73168874  0.56730247]\n",
            "The grad result is  [ 0.00039198 -0.00055201  0.00079911  0.00019796  0.00033127  0.00095869\n",
            "  0.00021726  0.00024686 -0.00019935 -0.00025711]\n"
          ],
          "name": "stdout"
        }
      ]
    },
    {
      "cell_type": "markdown",
      "metadata": {
        "id": "x9PuEwRW3To8"
      },
      "source": [
        "### 4. Forward mode using: `jax.jacjvp()`\n",
        "1. https://jax.readthedocs.io/en/latest/jax.html#jax.jvp\n",
        "2. Computes $\\frac{\\partial{F(x)}}{\\partial{x}}$  for a function $R^n \\rightarrow R^m$.\n",
        "3. Uses forward mode. \n",
        "4. You must provide the primal and a seed vector. \n",
        "   (For forward mode the shape of the seed must match the primal input.) \n",
        "5. The code below obtains the entire Jacobian by calling `jax.jacjvp()` multiple times using the Cartesian basis vectors."
      ]
    },
    {
      "cell_type": "code",
      "metadata": {
        "id": "zPCa8H6O3To8"
      },
      "source": [
        "def jvp_driver(n):\n",
        "    \"\"\"\n",
        "    Input: n array length\n",
        "    Output: Derivatives of the scalar function\n",
        "    \"\"\"\n",
        "    #create a random array\n",
        "    key = random.PRNGKey(0)\n",
        "    val = random.normal(key, (n,), jnp.float64)\n",
        "\n",
        "    #create a array of constant elememnts\n",
        "    #val = jnp.full(n, 0.5)\n",
        "\n",
        "    tangents = jnp.empty([0])\n",
        "\n",
        "    #compute the derivatives. It takes n calls!\n",
        "    iden_seed = jnp.eye(n)   \n",
        "    for i in range(n):\n",
        "        # jax.jvp must be called once for each input and seed value\n",
        "        primal_output, res = jax.jvp(fun, (val,), (iden_seed[i],))\n",
        "        tangents = jnp.append(tangents, res)\n",
        "    \n",
        "    plot_vals(val,grad=tangents)\n",
        "    print(\"The input is\", val)\n",
        "    print(\"The jax.jvp result is \", tangents)"
      ],
      "execution_count": null,
      "outputs": []
    },
    {
      "cell_type": "code",
      "metadata": {
        "scrolled": true,
        "id": "8rnrWIBu3To8",
        "colab": {
          "base_uri": "https://localhost:8080/",
          "height": 421
        },
        "outputId": "70800c28-e9b7-40e7-af06-2f80d5f07078"
      },
      "source": [
        "jvp_driver(10)"
      ],
      "execution_count": null,
      "outputs": [
        {
          "output_type": "display_data",
          "data": {
            "image/png": "[encoded data removed]",
            "text/plain": [
              "<Figure size 432x288 with 1 Axes>"
            ]
          },
          "metadata": {
            "tags": [],
            "needs_background": "light"
          }
        },
        {
          "output_type": "stream",
          "text": [
            "The input is [ 1.054516   -0.9692889  -0.59460217 -0.0318858   2.410932   -1.8784496\n",
            " -0.7847697  -0.3137085   0.33370885  1.767703   -1.0277647   1.4111717\n",
            " -0.5084972  -0.5263776   0.5031503   1.0549793  -0.0874074   0.79581654\n",
            "  2.656559   -0.5822907 ]\n",
            "The jax.jvp result is  [-0.000268    0.00029156  0.00047529  0.00886308 -0.00011722  0.00015045\n",
            "  0.00036011  0.00090086 -0.00084686 -0.00015987  0.00027497 -0.00020026\n",
            "  0.00055577  0.00053689 -0.00056167 -0.00026788  0.00323321 -0.00035511\n",
            " -0.00010638  0.00048534]\n"
          ],
          "name": "stdout"
        }
      ]
    },
    {
      "cell_type": "markdown",
      "metadata": {
        "id": "80cZLGm23To9"
      },
      "source": [
        "### 5. Reverse mode using: `jax.jacvjp()`\n",
        "1. https://jax.readthedocs.io/en/latest/jax.html#jax.vjp\n",
        "2. Uses reverse mode, returns a function that computes the adjoints for a funtion $R^n \\rightarrow R^m$.\n",
        "3. You must provide the input value.\n",
        "3. You can provide a seed. For reverse mode the shape of the seed must match the primal output. We have chosen `0.5`. \n",
        "5. Exercise: See how values change as the seed changes.\n"
      ]
    },
    {
      "cell_type": "code",
      "metadata": {
        "id": "bi66GZtX3To9"
      },
      "source": [
        "def vjp_driver(n):    \n",
        "    \"\"\"\n",
        "    Input: n array length\n",
        "    Output: Result of Rosenbrock's banana function\n",
        "    \"\"\"\n",
        "    #create a random array\n",
        "    key = random.PRNGKey(0)\n",
        "    val = random.normal(key, (n,), jnp.float64)\n",
        "\n",
        "    #create a array of constant elememnts\n",
        "    #val = jnp.full(n, 0.5)\n",
        "\n",
        "    #jax.vjp must be called once for each input value\n",
        "    primals, fun_vjp = jax.vjp(fun, val)\n",
        "    \n",
        "    #compute the derivatives by calling fun_vjp() for the seed value\n",
        "    seed = 1.0\n",
        "    adj_val = fun_vjp(seed)\n",
        "\n",
        "    plot_vals(val,grad=jnp.stack(adj_val[0]))\n",
        "    print(\"The input is\", val)\n",
        "    print(\"The jax.vjp result is \", adj_val[0])"
      ],
      "execution_count": null,
      "outputs": []
    },
    {
      "cell_type": "code",
      "metadata": {
        "id": "jJ-qVDff3To9",
        "colab": {
          "base_uri": "https://localhost:8080/",
          "height": 357
        },
        "outputId": "e770f09a-2caa-41f2-ca8b-b8eaf128dd73"
      },
      "source": [
        "vjp_driver(10)"
      ],
      "execution_count": null,
      "outputs": [
        {
          "output_type": "display_data",
          "data": {
            "image/png": "[encoded data removed]",
            "text/plain": [
              "<Figure size 432x288 with 1 Axes>"
            ]
          },
          "metadata": {
            "tags": [],
            "needs_background": "light"
          }
        },
        {
          "output_type": "stream",
          "text": [
            "The input is [-0.372111    0.2642311  -0.18252774 -0.7368198  -0.44030386 -0.15214427\n",
            " -0.6713536  -0.59086424  0.73168874  0.56730247]\n",
            "The jax.vjp result is  [ 0.00039198 -0.00055201  0.00079911  0.00019796  0.00033127  0.00095869\n",
            "  0.00021726  0.00024686 -0.00019935 -0.00025711]\n"
          ],
          "name": "stdout"
        }
      ]
    },
    {
      "cell_type": "markdown",
      "metadata": {
        "id": "0t2YnoCz3aHD"
      },
      "source": [
        ""
      ]
    }
  ]
}