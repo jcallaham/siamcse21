{
  "nbformat": 4,
  "nbformat_minor": 0,
  "metadata": {
    "kernelspec": {
      "display_name": "Python 3",
      "language": "python",
      "name": "python3"
    },
    "language_info": {
      "codemirror_mode": {
        "name": "ipython",
        "version": 3
      },
      "file_extension": ".py",
      "mimetype": "text/x-python",
      "name": "python",
      "nbconvert_exporter": "python",
      "pygments_lexer": "ipython3",
      "version": "3.9.0"
    },
    "colab": {
      "name": "stream_vel_nonlinearopt_w_jax.ipynb",
      "provenance": [],
      "collapsed_sections": [],
      "include_colab_link": true
    }
  },
  "cells": [
    {
      "cell_type": "markdown",
      "metadata": {
        "id": "view-in-github",
        "colab_type": "text"
      },
      "source": [
        "<a href=\"https://colab.research.google.com/github/sriharikrishna/siamcse21/blob/main/stream_vel_nonlinearopt_w_jax.ipynb\" target=\"_parent\"><img src=\"https://colab.research.google.com/assets/colab-badge.svg\" alt=\"Open In Colab\"/></a>"
      ]
    },
    {
      "cell_type": "markdown",
      "metadata": {
        "id": "h2bPqT7A00JF"
      },
      "source": [
        "# Introduction: stream_vel application\n",
        "\n",
        "#### **Purpose**: \n",
        "To show the use of automatic differentiation for numerical optimization. The code uses [JAX](https://github.com/google/jax) for AD and [scipy.optimize.minimize](https://docs.scipy.org/doc/scipy/reference/generated/scipy.optimize.minimize.html) for the optimization.\n",
        "\n",
        "#### **Physical Interpretation**:\n",
        "This code represents a simplified version of the physics of a tidewater glacier -- a fast outlet glacier of the type that flows into the ocean from the Greenland ice sheet. The numerical code simulates the velocity state of the glacier in response to the glacier geometry and physical parameters, such as frictional properties of the bed over which it slides (see e.g. Nick et al, 2010), but in a very simplified, idealized manner.\n",
        "\n",
        "The optimization example below estimates the magnitude and pattern of the frictional sliding parameter on the basis of an assumed velocity profile. This is a very common type of optimization carried out with a glacier flow model, as it is often the case that we have knowledge of surface properties of an ice sheet, but not of its bed (see e.g. MacAyeal, 1992).\n",
        "\n",
        "\n",
        "[Nick, F. M., Van Der Veen, C. J., Vieli, A. & Benn, D. I. A physically based\n",
        "calving model applied to marine outlet glaciers and implications for the\n",
        "glacier dynamics. J Glaciol 56, 781-794 (2010)](10.3189/002214310794457344)\n",
        "\n",
        "[MacAyeal, D. R. (1992), The basal stress distribution of Ice Stream E, Antarctica, inferred by control methods, J. Geophys. Res., 97( B1), 595– 603.](https://doi.org/10.1029/91JB02454)"
      ]
    },
    {
      "cell_type": "markdown",
      "metadata": {
        "id": "jVCpTmeg00JK"
      },
      "source": [
        "# Primal Code"
      ]
    },
    {
      "cell_type": "code",
      "metadata": {
        "id": "hBVneCgZ00JL"
      },
      "source": [
        "import jax\n",
        "import jax.numpy as jnp\n",
        "import jax.scipy.linalg as la\n",
        "from jax.config import config\n",
        "config.update(\"jax_enable_x64\", True)\n",
        "import matplotlib.pyplot as plt\n",
        "from scipy.optimize import minimize\n",
        "from jax import random\n",
        "from jax import float0\n",
        "import time\n",
        "import numpy as np"
      ],
      "execution_count": 1,
      "outputs": []
    },
    {
      "cell_type": "markdown",
      "metadata": {
        "id": "OXaXH3Br1o-7"
      },
      "source": [
        "### Define the glacier parameters"
      ]
    },
    {
      "cell_type": "code",
      "metadata": {
        "id": "tXB5H48k00JL"
      },
      "source": [
        "# These are the physics constants \n",
        "# They can be changed by the user to affect glacier physics\n",
        "Lx = 79.e3            # domain length\n",
        "beta_const = 5.       # \\beta for sliding law\n",
        "h_left = 1000.\n",
        "h_right = 1000.\n",
        "R_bed = -900.\n",
        "rhow = 1035.\n",
        "ep_glen = 1.e-7       # reg. parameter for glen's law\n",
        "Aglen = 5.0002e-17    # glen's law constant\n",
        "nglen = 3.            # glen's law exponent\n",
        "n_nl = 50             # number of times the solve linear system is solved\n",
        "g = 9.81              # gravity \n",
        "rhoi = 910."
      ],
      "execution_count": 2,
      "outputs": []
    },
    {
      "cell_type": "markdown",
      "metadata": {
        "id": "PpNDgG17zjEZ"
      },
      "source": [
        "The following code computes the stream velocity profile for a given frictional sliding parameter"
      ]
    },
    {
      "cell_type": "code",
      "metadata": {
        "id": "o_ESkpEH00JM"
      },
      "source": [
        "def stream_vel_init (n, rhoi, g):\n",
        "    h = jnp.zeros(n)\n",
        "    beta = jnp.full(n,beta_const)\n",
        "    dx = Lx / (n*1.0)\n",
        "    hint = jnp.linspace(start=1,stop=n,num=n,dtype=int)\n",
        "    hintm1 = jnp.roll(hint,1)\n",
        "    hintp1 = jnp.roll(hint,-1)\n",
        "    h = h_left + (h_right-h_left)/Lx * (hint-0.5)*dx\n",
        "    return h, beta, dx\n",
        "\n",
        "def stream_vel_taud (h, n, dx, rhoi, g):\n",
        "    h_minus1 = jnp.roll(h,1)\n",
        "    h_plus1 = jnp.roll(h,-1)\n",
        "    f = jnp.append(rhoi * g * h[0] * (h[1]-h[0])/dx, \n",
        "                   rhoi * g * h[1:n-1] * \n",
        "                   (h_plus1[1:n-1]-h_minus1[1:n-1])/2./dx)\n",
        "    f = jnp.append(f,rhoi * g * h[n-1] * (h[n-1]-h[n-2])/dx)\n",
        "    fend = .5 * (rhoi * g * (h[n-1])**2 - rhow * g * R_bed**2) * .5\n",
        "    return f, fend\n",
        "\n",
        "def stream_vel_visc (h, u, n, dx):\n",
        "    ux = jnp.diff(u)/dx\n",
        "    tmp = jnp.add(jnp.square(ux) , jnp.square(ep_glen))\n",
        "    nu = .5 * h * Aglen**(-1./nglen) * tmp ** ((1-nglen)/2./nglen)\n",
        "    return nu\n",
        "\n",
        "def stream_assemble (nu, beta_fric, n, dx):\n",
        "    A = jnp.zeros((n,n))\n",
        "    nu_plus1 = jnp.roll(nu,-1)\n",
        "    beta_fric_plus1 = jnp.roll(beta_fric,-1)\n",
        "    A1 = jnp.array(4*nu[0:n-1]/dx + dx/3. \n",
        "                   * beta_fric[0:n-1]**2 + 4*nu_plus1[0:n-1]/dx + dx/3. \n",
        "                   * beta_fric_plus1[0:n-1]**2)\n",
        "    A1 = jnp.array(jnp.add(\n",
        "        jnp.add(4*nu[0:n-1]/dx + dx/3. * jnp.square(beta_fric[0:n-1]) , \n",
        "                4*nu_plus1[0:n-1]/dx), \n",
        "        dx/3. * jnp.square(beta_fric_plus1[0:n-1])))\n",
        "    A1 = jnp.append(A1,4*nu[n-1]/dx + dx/3. * beta_fric[n-1]**2)\n",
        "    A = jnp.diag(A1)\n",
        "    AL = jnp.diag(jnp.add(-4*nu[1:n]/dx, \n",
        "                          dx/6. * jnp.square(beta_fric[1:n])), -1)\n",
        "    AU = jnp.diag(jnp.add(-4*nu_plus1[0:n-1]/dx , \n",
        "                          dx/6. * jnp.square(beta_fric_plus1[0:n-1])),1)\n",
        "    A = jnp.add(jnp.add(A,AL),AU)\n",
        "    return A\n",
        "\n",
        "def stream_vel (bb):\n",
        "    n = grid_size\n",
        "    h, beta_fric, dx = stream_vel_init(n, rhoi, g)\n",
        "    beta_fric = bb + beta_fric\n",
        "    f, fend = stream_vel_taud (h, n, dx, rhoi, g)\n",
        "    u = jnp.zeros(n+1)\n",
        "    #driving stress\n",
        "    f_plus1 = jnp.roll(f,-1)\n",
        "    b = jnp.append(-dx * f[0:n-1] - f_plus1[0:n-1] * dx,\n",
        "                -dx * f[n-1] - f_plus1[n-1] * dx + fend)\n",
        "\n",
        "    for i in range(n_nl):\n",
        "        #update viscosities\n",
        "        nu = stream_vel_visc (h, u, n, dx)\n",
        "        # assemble tridiag matrix. This represents the discretization of\n",
        "        #  (nu^(i-1) u^(i)_x)_x - \\beta^2 u^(i) = f\n",
        "        A = stream_assemble (nu, beta_fric, n, dx)\n",
        "\n",
        "        # solve linear system for new u\n",
        "        # effectively apply boundary condition u(0)==0\n",
        "        u = jnp.append(jnp.zeros(1),la.solve(A,b))\n",
        "    return u"
      ],
      "execution_count": 3,
      "outputs": []
    },
    {
      "cell_type": "markdown",
      "metadata": {
        "id": "Y9quVO3C00JM"
      },
      "source": [
        "### Visualization functions"
      ]
    },
    {
      "cell_type": "code",
      "metadata": {
        "id": "R-8Dhao200JN"
      },
      "source": [
        "def plot_bb(bb, plot_truth=True, plot_optimized=True):\n",
        "    if plot_truth==True: \n",
        "        plt.plot(bb,'b',label='optimized')\n",
        "    if plot_optimized==True: \n",
        "        plt.plot(beta_p_truth,'r',label='truth')\n",
        "    plt.legend()\n",
        "    plt.title('parameter beta')\n",
        "    plt.xlabel('grid point')\n",
        "    plt.ylabel('$\\sqrt{(Pa \\, yr/m)}$')\n",
        "    plt.show()\n",
        "\n",
        "def plot_velocity(u, plot_truth=True):\n",
        "    plt.plot(u,'b',label='optimized')\n",
        "    if plot_truth==True: \n",
        "        plt.plot(u_p_truth,'r',label='truth')\n",
        "    plt.title('velocity')\n",
        "    plt.xlabel('grid point')\n",
        "    plt.ylabel('$(m/yr)$')\n",
        "    plt.legend()\n",
        "    plt.show()"
      ],
      "execution_count": 4,
      "outputs": []
    },
    {
      "cell_type": "markdown",
      "metadata": {
        "id": "WhVwXGa900JN"
      },
      "source": [
        "### Running the Primal Code\n",
        "Let us run the primal function for a random input"
      ]
    },
    {
      "cell_type": "code",
      "metadata": {
        "id": "tf3BYiL400JN",
        "outputId": "1ff63c3b-559e-4ac8-c585-ed76f593f985",
        "colab": {
          "base_uri": "https://localhost:8080/",
          "height": 590
        }
      },
      "source": [
        "#This value sets the problem size\n",
        "grid_size = 79\n",
        "\n",
        "key = random.PRNGKey(0)\n",
        "bb = random.normal(key, (grid_size,), jnp.float64) * 100\n",
        "\n",
        "uran = stream_vel(bb)\n",
        "\n",
        "plot_bb(bb, plot_optimized=False)\n",
        "plot_velocity(uran, plot_truth=False)"
      ],
      "execution_count": 5,
      "outputs": [
        {
          "output_type": "stream",
          "text": [
            "WARNING:absl:No GPU/TPU found, falling back to CPU. (Set TF_CPP_MIN_LOG_LEVEL=0 and rerun for more info.)\n"
          ],
          "name": "stderr"
        },
        {
          "output_type": "display_data",
          "data": {
            "image/png": "[encoded data removed]",
            "text/plain": [
              "<Figure size 432x288 with 1 Axes>"
            ]
          },
          "metadata": {
            "tags": [],
            "needs_background": "light"
          }
        },
        {
          "output_type": "display_data",
          "data": {
            "image/png": "[encoded data removed]",
            "text/plain": [
              "<Figure size 432x288 with 1 Axes>"
            ]
          },
          "metadata": {
            "tags": [],
            "needs_background": "light"
          }
        }
      ]
    },
    {
      "cell_type": "markdown",
      "metadata": {
        "id": "flqnInqk00JO"
      },
      "source": [
        "This is what happens when we do not have a sensible parameter value"
      ]
    },
    {
      "cell_type": "markdown",
      "metadata": {
        "id": "4y-eQ7cW00JO"
      },
      "source": [
        "# Optimization Experiment\n",
        "Here we can set up the optimization experiment. We create a glacier geometry that we assume is the truth. We then can compute the observations that we would have seen in the physical world.\n",
        "The geometry is in reality non-observable."
      ]
    },
    {
      "cell_type": "code",
      "metadata": {
        "id": "MrymBi_z00JO",
        "outputId": "c0ecf4e5-82c3-4904-9bae-77440eea51c3",
        "colab": {
          "base_uri": "https://localhost:8080/",
          "height": 573
        }
      },
      "source": [
        "def setup(nloc=79):\n",
        "  \"\"\"Sets the observations for an optimization run\n",
        "     Call this function anytime grid_size or physics constants are changed\n",
        "  Args:\n",
        "    nloc: number of grid points\n",
        "  Returns:\n",
        "    beta_p_truth : assumed true frictional sliding parameter\n",
        "    u_p_truth    : true observed velocity\n",
        "  \"\"\"\n",
        "  _,_,dx = stream_vel_init (nloc, rhoi, g)\n",
        "  xpos = jnp.linspace(dx/2,Lx-dx/2,nloc)\n",
        "\n",
        "  #This is the assumed true frictional sliding parameter\n",
        "  beta_p_truth = 3 * jnp.exp(-(xpos-Lx/2)**2/(10.e3)**2)\n",
        "\n",
        "  #This is the true observed velocity (computed using the assumed true parameter).\n",
        "  u_p_truth = stream_vel(bb=beta_p_truth)\n",
        "  return beta_p_truth, u_p_truth\n",
        "\n",
        "grid_size = 79\n",
        "beta_p_truth, u_p_truth = setup(grid_size)\n",
        "\n",
        "plot_bb(beta_p_truth, plot_optimized=False)\n",
        "plot_velocity(u_p_truth,plot_truth=False)"
      ],
      "execution_count": 6,
      "outputs": [
        {
          "output_type": "display_data",
          "data": {
            "image/png": "[encoded data removed]",
            "text/plain": [
              "<Figure size 432x288 with 1 Axes>"
            ]
          },
          "metadata": {
            "tags": [],
            "needs_background": "light"
          }
        },
        {
          "output_type": "display_data",
          "data": {
            "image/png": "[encoded data removed]",
            "text/plain": [
              "<Figure size 432x288 with 1 Axes>"
            ]
          },
          "metadata": {
            "tags": [],
            "needs_background": "light"
          }
        }
      ]
    },
    {
      "cell_type": "markdown",
      "metadata": {
        "id": "OwR_j6jc00JP"
      },
      "source": [
        "### Cost function\n",
        "We can then define a cost function"
      ]
    },
    {
      "cell_type": "code",
      "metadata": {
        "id": "FBxC5Ke_00JP"
      },
      "source": [
        "def cost_func (bb, uref):\n",
        "    \"\"\" Computes the sum of elementwise squared difference\n",
        "     Args:\n",
        "       bb: vector, friction parameter\n",
        "       uref: vector, true velocity\n",
        "     Returns:\n",
        "       fc : cost\n",
        "    \"\"\"\n",
        "    print(\"IN COST FUNC\")\n",
        "    n = bb.size\n",
        "    u = stream_vel (bb)\n",
        "    fc = 0.0\n",
        "    for i in range(1,n+1):\n",
        "        fc = fc + (u[i]-uref[i])**2\n",
        "    # regularization\n",
        "    gamma = 100000\n",
        "    dx = Lx / (n*1.0)\n",
        "    fc = fc + gamma * jnp.sum((jnp.diff(bb)/dx)**2)\n",
        "    return fc"
      ],
      "execution_count": 7,
      "outputs": []
    },
    {
      "cell_type": "markdown",
      "metadata": {
        "id": "3RXHFFQJ00JP"
      },
      "source": [
        "## Gradient Function\n",
        "We can then define a function to compute the derivatives using JAX. Because there are more inputs (79) than outputs (1), reverse mode AD is appropriate. So, we use <code>jax.grad()</code> \n",
        "See the exercises for other options."
      ]
    },
    {
      "cell_type": "code",
      "metadata": {
        "id": "l8fRCm9100JP"
      },
      "source": [
        "#cfg = jax.grad(cost_func, argnums=(0,))\n",
        "def cost_func_grad (bb, u):   \n",
        "    print(\"IN GRAD\") \n",
        "    #direcmat = cfg(bb, u)\n",
        "    direcmat = jax.grad(cost_func, argnums=(0,))(bb, u)\n",
        "    return direcmat[0]"
      ],
      "execution_count": 8,
      "outputs": []
    },
    {
      "cell_type": "markdown",
      "metadata": {
        "id": "1_MZIbgY00JP"
      },
      "source": [
        "Call the [scipy.optimize.minimize](https://docs.scipy.org/doc/scipy/reference/generated/scipy.optimize.minimize.html) routine (BFGS). Derivatives are provided by <code>get_gradient_cost_func</code> and <code>plot_bb</code> will plot the parameter values for each iteration in BFGS."
      ]
    },
    {
      "cell_type": "code",
      "metadata": {
        "id": "vmjkX1WG00JQ",
        "outputId": "d93e2b0b-6b57-4c44-cce0-029521782835",
        "colab": {
          "base_uri": "https://localhost:8080/",
          "height": 232
        }
      },
      "source": [
        "#Setup the optimization\n",
        "grid_size = 79\n",
        "beta_p_truth, u_p_truth = setup(grid_size)\n",
        "\n",
        "# The optimization can start either at a intial point that is all zeros or at a random point\n",
        "#bb = jnp.zeros(n)\n",
        "key = random.PRNGKey(0)\n",
        "bb = random.normal(key, (grid_size,), jnp.float64)\n",
        "\n",
        "# Modify maxiter to make the optimization stop sooner/later\n",
        "# jac option can be cost_func_vjp, cost_func_jvp, cost_func_jacrev, cost_func_jacfwd, cost_func_grad\n",
        "res = minimize(cost_func,bb,args=(u_p_truth),tol=1e-1, method='BFGS',\n",
        "               options={\"maxiter\":100},\n",
        "               jac = cost_func_grad,\n",
        "               callback = plot_bb)\n",
        "\n",
        "\n"
      ],
      "execution_count": 9,
      "outputs": [
        {
          "output_type": "error",
          "ename": "NameError",
          "evalue": "ignored",
          "traceback": [
            "\u001b[0;31m---------------------------------------------------------------------------\u001b[0m",
            "\u001b[0;31mNameError\u001b[0m                                 Traceback (most recent call last)",
            "\u001b[0;32m<ipython-input-9-c36b09192d5f>\u001b[0m in \u001b[0;36m<module>\u001b[0;34m()\u001b[0m\n\u001b[1;32m     12\u001b[0m res = minimize(cost_func,bb,args=(u_p_truth),tol=1e-1, method='BFGS',\n\u001b[1;32m     13\u001b[0m                \u001b[0moptions\u001b[0m\u001b[0;34m=\u001b[0m\u001b[0;34m{\u001b[0m\u001b[0;34m\"maxiter\"\u001b[0m\u001b[0;34m:\u001b[0m\u001b[0;36m100\u001b[0m\u001b[0;34m}\u001b[0m\u001b[0;34m,\u001b[0m\u001b[0;34m\u001b[0m\u001b[0;34m\u001b[0m\u001b[0m\n\u001b[0;32m---> 14\u001b[0;31m                \u001b[0mjac\u001b[0m \u001b[0;34m=\u001b[0m \u001b[0mcost_func_vjp\u001b[0m\u001b[0;34m,\u001b[0m\u001b[0;34m\u001b[0m\u001b[0;34m\u001b[0m\u001b[0m\n\u001b[0m\u001b[1;32m     15\u001b[0m                callback = plot_bb)\n\u001b[1;32m     16\u001b[0m \u001b[0;34m\u001b[0m\u001b[0m\n",
            "\u001b[0;31mNameError\u001b[0m: name 'cost_func_vjp' is not defined"
          ]
        }
      ]
    },
    {
      "cell_type": "markdown",
      "metadata": {
        "id": "3cdphoR200JQ"
      },
      "source": [
        "Plot the final parameter values and velocity"
      ]
    },
    {
      "cell_type": "code",
      "metadata": {
        "id": "4OVet4ZM00JR"
      },
      "source": [
        "bb_final = res[\"x\"]\n",
        "plot_bb(bb_final)\n",
        "u = stream_vel(bb=bb_final)\n",
        "plot_velocity(u)"
      ],
      "execution_count": null,
      "outputs": []
    },
    {
      "cell_type": "markdown",
      "metadata": {
        "id": "B_mmEkqb00JR"
      },
      "source": [
        "\n",
        "# Exercises related to Automatic Differentiation and Optimization\n",
        "1. Change `grid_size`\n",
        "2. Try a derivative free optimization routine (e.g. Nelder-Mead) (code given below)\n",
        "3. Change the value of `gamma` in `cost_func()`\n",
        "4. Compare the performance of different derivative computation routines:\n",
        "  1. Finite differences (code given below)\n",
        "  2. `jax.jacfwd()`\n",
        "  3. `jax.jacrev()`\n",
        "  4. `jax.jvp()`\n",
        "  5. `jax.vjp()`\n",
        "  \n",
        "The functions are given below\n"
      ]
    },
    {
      "cell_type": "code",
      "metadata": {
        "id": "8mG13phN00JR"
      },
      "source": [
        "def cost_func_vjp (bb, u):  \n",
        "    _, jax_vjp = jax.vjp(cost_func, bb, u)\n",
        "    directmat = jax_vjp(1.0)\n",
        "    return directmat[0]"
      ],
      "execution_count": null,
      "outputs": []
    },
    {
      "cell_type": "code",
      "metadata": {
        "id": "-8Xqj2lM00JR"
      },
      "source": [
        "def cost_func_jvp (bb, u):  \n",
        "    n = bb.size\n",
        "    directmat = jnp.empty([0])\n",
        "    for i in range(n):\n",
        "        seed = jnp.zeros(n)\n",
        "        seed = jax.ops.index_update(seed, jax.ops.index[i], 1)\n",
        "        primal, res = jax.jvp(cost_func, (bb, u), (seed,jnp.zeros(n+1)))\n",
        "        directmat = jnp.append(directmat, res)\n",
        "    return directmat"
      ],
      "execution_count": null,
      "outputs": []
    },
    {
      "cell_type": "code",
      "metadata": {
        "id": "kOzX80K_00JR"
      },
      "source": [
        "def cost_func_jacfwd (bb, u):    \n",
        "    direcmat = jax.jacfwd(cost_func, argnums=(0,))(bb, u)\n",
        "    return direcmat[0]"
      ],
      "execution_count": null,
      "outputs": []
    },
    {
      "cell_type": "code",
      "metadata": {
        "id": "9ieDR0Gh00JS"
      },
      "source": [
        "def cost_func_jacrev (bb, u):    \n",
        "    direcmat = jax.jacrev(cost_func, argnums=(0,))(bb, u)\n",
        "    return direcmat[0]"
      ],
      "execution_count": null,
      "outputs": []
    },
    {
      "cell_type": "markdown",
      "metadata": {
        "id": "3H3yPZT5rAed"
      },
      "source": [
        "## Finite Differences"
      ]
    },
    {
      "cell_type": "code",
      "metadata": {
        "id": "8P9goJ0ddMBS"
      },
      "source": [
        "\n",
        "# Uncomment to use finite differences to compute the derivatives.\n",
        "# Use grid_size=10 for timely convergence\n",
        "# Modify maxiter to make the optimization stop sooner/later\n",
        "'''\n",
        "grid_size = 10\n",
        "beta_p_truth, u_p_truth = setup(grid_size)\n",
        "key = random.PRNGKey(0)\n",
        "bb = random.normal(key, (grid_size,), jnp.float64)\n",
        "res = minimize(cost_func,bb,args=(u_p_truth),tol=1e-1, method='BFGS',\n",
        "               options={\"maxiter\":40}, # Reduce this value to make the optimization stop sooner\n",
        "               jac = '2-point',\n",
        "               callback = plot_bb)\n",
        "'''"
      ],
      "execution_count": null,
      "outputs": []
    },
    {
      "cell_type": "markdown",
      "metadata": {
        "id": "lIO3s2cSrD2S"
      },
      "source": [
        "## Derivative Free Optmization (Nelder-Mead)"
      ]
    },
    {
      "cell_type": "code",
      "metadata": {
        "id": "bFRWjYxOdHqN"
      },
      "source": [
        "\n",
        "# Uncomment to use derivative free optimization (Nelder-Mead)\n",
        "# Use grid_size=5 for timely convergence\n",
        "# Modify maxiter to make the optimization stop sooner/later\n",
        "'''\n",
        "grid_size = 5\n",
        "beta_p_truth, u_p_truth = setup(grid_size)\n",
        "key = random.PRNGKey(0)\n",
        "bb = random.normal(key, (grid_size,), jnp.float64)\n",
        "res = minimize(cost_func,bb,args=(u_p_truth), method='Nelder-Mead',\n",
        "               options={\"maxiter\":100,'disp': True,}, \n",
        "               callback = plot_bb)\n",
        "'''"
      ],
      "execution_count": null,
      "outputs": []
    },
    {
      "cell_type": "markdown",
      "metadata": {
        "id": "ioX-PVrBBEbB"
      },
      "source": [
        "# Exercises related to Glaciology\n",
        "1. Change glacier physics by modifying the constants\n",
        "2. Change `setup()` to create a different `beta_p_truth` and `u_p_truth`"
      ]
    }
  ]
}