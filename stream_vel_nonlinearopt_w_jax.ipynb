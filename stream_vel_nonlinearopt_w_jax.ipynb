{
  "nbformat": 4,
  "nbformat_minor": 0,
  "metadata": {
    "kernelspec": {
      "display_name": "Python 3",
      "language": "python",
      "name": "python3"
    },
    "language_info": {
      "codemirror_mode": {
        "name": "ipython",
        "version": 3
      },
      "file_extension": ".py",
      "mimetype": "text/x-python",
      "name": "python",
      "nbconvert_exporter": "python",
      "pygments_lexer": "ipython3",
      "version": "3.9.0"
    },
    "colab": {
      "name": "stream_vel_nonlinearopt_w_jax.ipynb",
      "provenance": [],
      "collapsed_sections": [],
      "include_colab_link": true
    }
  },
  "cells": [
    {
      "cell_type": "markdown",
      "metadata": {
        "id": "view-in-github",
        "colab_type": "text"
      },
      "source": [
        "<a href=\"https://colab.research.google.com/github/sriharikrishna/siamcse21/blob/main/stream_vel_nonlinearopt_w_jax.ipynb\" target=\"_parent\"><img src=\"https://colab.research.google.com/assets/colab-badge.svg\" alt=\"Open In Colab\"/></a>"
      ]
    },
    {
      "cell_type": "markdown",
      "metadata": {
        "id": "h2bPqT7A00JF"
      },
      "source": [
        "# Introduction: stream_vel application\n",
        "\n",
        "#### **Purpose**: \n",
        "To show the use of automatic differentiation for numerical optimization. The code uses [JAX](https://github.com/google/jax) for AD and [scipy.optimize.minimize](https://docs.scipy.org/doc/scipy/reference/generated/scipy.optimize.minimize.html) for the optimization.\n",
        "\n",
        "#### Physical Interpretation:\n",
        "This code represents a simplified version of the physics of a tidewater glacier -- a fast outlet glacier of the type that flows into the ocean from the Greenland ice sheet. The numerical code simulates the velocity state of the glacier in response to the glacier geometry and physical parameters, such as frictional properties of the bed over which it slides (see e.g. Nick et al, 2010), but in a very simplified, idealized manner.\n",
        "\n",
        "The optimization example below estimates the magnitude and pattern of the frictional sliding parameter on the basis of an assumed velocity profile. This is a very common type of optimization carried out with a glacier flow model, as it is often the case that we have knowledge of surface properties of an ice sheet, but not of its bed (see e.g. MacAyeal, 1992).\n",
        "\n",
        "\n",
        "[Nick, F. M., Van Der Veen, C. J., Vieli, A. & Benn, D. I. A physically based\n",
        "calving model applied to marine outlet glaciers and implications for the\n",
        "glacier dynamics. J Glaciol 56, 781-794 (2010)](10.3189/002214310794457344)\n",
        "\n",
        "[MacAyeal, D. R. (1992), The basal stress distribution of Ice Stream E, Antarctica, inferred by control methods, J. Geophys. Res., 97( B1), 595– 603.](https://doi.org/10.1029/91JB02454)"
      ]
    },
    {
      "cell_type": "markdown",
      "metadata": {
        "id": "jVCpTmeg00JK"
      },
      "source": [
        "# Primal Code\n",
        "The following function computes the stream velocity profile"
      ]
    },
    {
      "cell_type": "markdown",
      "metadata": {
        "id": "s7JugrVw00JL"
      },
      "source": [
        "### Import JAX and scipy.optimize.minimize"
      ]
    },
    {
      "cell_type": "code",
      "metadata": {
        "id": "hBVneCgZ00JL"
      },
      "source": [
        "import jax\n",
        "import jax.numpy as jnp\n",
        "import jax.scipy.linalg as la\n",
        "from jax.config import config\n",
        "config.update(\"jax_enable_x64\", True)\n",
        "import matplotlib.pyplot as plt\n",
        "from scipy.optimize import minimize\n",
        "from jax import random\n",
        "from jax import float0\n",
        "import time"
      ],
      "execution_count": null,
      "outputs": []
    },
    {
      "cell_type": "markdown",
      "metadata": {
        "id": "OXaXH3Br1o-7"
      },
      "source": [
        "### Define the physical parameters"
      ]
    },
    {
      "cell_type": "code",
      "metadata": {
        "id": "tXB5H48k00JL"
      },
      "source": [
        "# These are the physics constants \n",
        "# They can be changed by the user to affect glacier physics\n",
        "Lx = 79.e3            # domain length\n",
        "beta_const = 5.       # \\beta for sliding law\n",
        "h_left = 1000.\n",
        "h_right = 1000.\n",
        "R_bed = -900.\n",
        "rhow = 1035.\n",
        "ep_glen = 1.e-7       # reg. parameter for glen's law\n",
        "Aglen = 5.0002e-17    # glen's law constant\n",
        "nglen = 3.            # glen's law exponent\n",
        "n_nl = 50\n",
        "g = 9.81\n",
        "rhoi = 910."
      ],
      "execution_count": null,
      "outputs": []
    },
    {
      "cell_type": "markdown",
      "metadata": {
        "id": "v_VbGqVT2CcN"
      },
      "source": [
        "### Define problem size"
      ]
    },
    {
      "cell_type": "code",
      "metadata": {
        "id": "b1J345aa00JM"
      },
      "source": [
        "#This is the grid size\n",
        "n = 79"
      ],
      "execution_count": null,
      "outputs": []
    },
    {
      "cell_type": "code",
      "metadata": {
        "id": "o_ESkpEH00JM"
      },
      "source": [
        "def stream_vel_init (n, rhoi, g):\n",
        "    h = jnp.zeros(n)\n",
        "    beta = jnp.full(n,beta_const)\n",
        "    dx = Lx / (n*1.0)\n",
        "    hint = jnp.linspace(start=1,stop=n,num=n,dtype=int)\n",
        "    hintm1 = jnp.roll(hint,1)\n",
        "    hintp1 = jnp.roll(hint,-1)\n",
        "    h = h_left + (h_right-h_left)/Lx * (hint-0.5)*dx\n",
        "    return h, beta, dx\n",
        "\n",
        "def stream_vel_taud (h, n, dx, rhoi, g):\n",
        "    h_minus1 = jnp.roll(h,1)\n",
        "    h_plus1 = jnp.roll(h,-1)\n",
        "    f = jnp.append(rhoi * g * h[0] * (h[1]-h[0])/dx, \n",
        "                   rhoi * g * h[1:n-1] * \n",
        "                   (h_plus1[1:n-1]-h_minus1[1:n-1])/2./dx)\n",
        "    f = jnp.append(f,rhoi * g * h[n-1] * (h[n-1]-h[n-2])/dx)\n",
        "    fend = .5 * (rhoi * g * (h[n-1])**2 - rhow * g * R_bed**2) * .5\n",
        "    return f, fend\n",
        "\n",
        "def stream_vel_visc (h, u, n, dx):\n",
        "    ux = jnp.diff(u)/dx\n",
        "    tmp = jnp.add(jnp.square(ux) , jnp.square(ep_glen))\n",
        "    nu = .5 * h * Aglen**(-1./nglen) * tmp ** ((1-nglen)/2./nglen)\n",
        "    return nu\n",
        "\n",
        "def stream_assemble (nu, beta_fric, n, dx):\n",
        "    A = jnp.zeros((n,n))\n",
        "    nu_plus1 = jnp.roll(nu,-1)\n",
        "    beta_fric_plus1 = jnp.roll(beta_fric,-1)\n",
        "    A1 = jnp.array(4*nu[0:n-1]/dx + dx/3. \n",
        "                   * beta_fric[0:n-1]**2 + 4*nu_plus1[0:n-1]/dx + dx/3. \n",
        "                   * beta_fric_plus1[0:n-1]**2)\n",
        "    A1 = jnp.array(jnp.add(\n",
        "        jnp.add(4*nu[0:n-1]/dx + dx/3. * jnp.square(beta_fric[0:n-1]) , \n",
        "                4*nu_plus1[0:n-1]/dx), \n",
        "        dx/3. * jnp.square(beta_fric_plus1[0:n-1])))\n",
        "    A1 = jnp.append(A1,4*nu[n-1]/dx + dx/3. * beta_fric[n-1]**2)\n",
        "    A = jnp.diag(A1)\n",
        "    AL = jnp.diag(jnp.add(-4*nu[1:n]/dx, \n",
        "                          dx/6. * jnp.square(beta_fric[1:n])), -1)\n",
        "    AU = jnp.diag(jnp.add(-4*nu_plus1[0:n-1]/dx , \n",
        "                          dx/6. * jnp.square(beta_fric_plus1[0:n-1])),1)\n",
        "    A = jnp.add(jnp.add(A,AL),AU)\n",
        "    return A\n",
        "\n",
        "def stream_vel (bb):\n",
        "    h, beta_fric, dx = stream_vel_init(n, rhoi, g)\n",
        "    beta_fric = bb + beta_fric\n",
        "    f, fend = stream_vel_taud (h, n, dx, rhoi, g)\n",
        "    u = jnp.zeros(n+1)\n",
        "#------ driving stress -------------\n",
        "    f_plus1 = jnp.roll(f,-1)\n",
        "    b = jnp.append(-dx * f[0:n-1] - f_plus1[0:n-1] * dx,\n",
        "                -dx * f[n-1] - f_plus1[n-1] * dx + fend)\n",
        "#-----------------------------------\n",
        "    for i in range(n_nl):\n",
        "        #update viscosities\n",
        "        nu = stream_vel_visc (h, u, n, dx)\n",
        "        # assemble tridiag matrix. This represents the discretization of\n",
        "        #  (nu^(i-1) u^(i)_x)_x - \\beta^2 u^(i) = f\n",
        "        A = stream_assemble (nu, beta_fric, n, dx)\n",
        "\n",
        "        # solve linear system for new u\n",
        "        # effectively apply boundary condition u(0)==0\n",
        "        u = jnp.append(jnp.zeros(1),la.solve(A,b))\n",
        "    return u"
      ],
      "execution_count": null,
      "outputs": []
    },
    {
      "cell_type": "markdown",
      "metadata": {
        "id": "Y9quVO3C00JM"
      },
      "source": [
        "### Visualization functions"
      ]
    },
    {
      "cell_type": "code",
      "metadata": {
        "id": "R-8Dhao200JN"
      },
      "source": [
        "def plot_bb(bb, plot_truth=True, plot_optimized=True):\n",
        "    if plot_truth==True: \n",
        "        plt.plot(bb,'b',label='optimized')\n",
        "    if plot_optimized==True: \n",
        "        plt.plot(beta_p_truth,'r',label='truth')\n",
        "    plt.legend()\n",
        "    plt.title('parameter beta')\n",
        "    plt.xlabel('grid point')\n",
        "    plt.ylabel('$\\sqrt{(Pa \\, yr/m)}$')\n",
        "    plt.show()\n",
        "\n",
        "def plot_velocity(u, plot_truth=True):\n",
        "    plt.plot(u,'b',label='optimized')\n",
        "    if plot_truth==True: \n",
        "        plt.plot(u_p_truth,'r',label='truth')\n",
        "    plt.title('velocity')\n",
        "    plt.xlabel('grid point')\n",
        "    plt.ylabel('$(m/yr)$')\n",
        "    plt.legend()\n",
        "    plt.show()"
      ],
      "execution_count": null,
      "outputs": []
    },
    {
      "cell_type": "markdown",
      "metadata": {
        "id": "WhVwXGa900JN"
      },
      "source": [
        "### Running the Primal Function\n",
        "Let us run the primal function for a random input"
      ]
    },
    {
      "cell_type": "code",
      "metadata": {
        "id": "tf3BYiL400JN"
      },
      "source": [
        "key = random.PRNGKey(0)\n",
        "bb = random.normal(key, (n,), jnp.float64) * 100\n",
        "uran = stream_vel(bb)\n",
        "plot_bb(bb, plot_optimized=False)\n",
        "plot_velocity(uran, plot_truth=False)"
      ],
      "execution_count": null,
      "outputs": []
    },
    {
      "cell_type": "markdown",
      "metadata": {
        "id": "flqnInqk00JO"
      },
      "source": [
        "This is what happens when we do not have a sensible parameter value"
      ]
    },
    {
      "cell_type": "markdown",
      "metadata": {
        "id": "4y-eQ7cW00JO"
      },
      "source": [
        "# Optimization Experiment\n",
        "Here we can set up the optimization experiment. We create a glacier geometry that we assume is the truth. We then can compute the observations that we would have seen in the physical world.\n",
        "The geometry is in reality non-observable."
      ]
    },
    {
      "cell_type": "code",
      "metadata": {
        "id": "MrymBi_z00JO"
      },
      "source": [
        "_,_,dx = stream_vel_init (n, rhoi, g)\n",
        "xpos = jnp.linspace(dx/2,Lx-dx/2,n)\n",
        "\n",
        "#This is the assumed true parameter\n",
        "beta_p_truth = 3 * jnp.exp(-(xpos-Lx/2)**2/(10.e3)**2)\n",
        "\n",
        "#This is the true observed velocity (computed using the assumed true parameter).\n",
        "u_p_truth = stream_vel(bb=beta_p_truth)\n",
        "plot_velocity(beta_p_truth,plot_truth=False)\n",
        "plot_velocity(u_p_truth,plot_truth=False)"
      ],
      "execution_count": null,
      "outputs": []
    },
    {
      "cell_type": "markdown",
      "metadata": {
        "id": "OwR_j6jc00JP"
      },
      "source": [
        "We can then define a cost function"
      ]
    },
    {
      "cell_type": "code",
      "metadata": {
        "id": "FBxC5Ke_00JP"
      },
      "source": [
        "def cost_func (bb, uref):\n",
        "    n = bb.size\n",
        "    u = stream_vel (bb)\n",
        "    fc = 0.0\n",
        "    for i in range(1,n+1):\n",
        "        fc = fc + (u[i]-uref[i])**2\n",
        "    # regularization\n",
        "    gamma = 100000\n",
        "    fc = fc + gamma * jnp.sum((jnp.diff(bb)/dx)**2)\n",
        "    return fc"
      ],
      "execution_count": null,
      "outputs": []
    },
    {
      "cell_type": "markdown",
      "metadata": {
        "id": "3RXHFFQJ00JP"
      },
      "source": [
        "We can then define a function to compute the derivatives using JAX. Because there are more inputs (79) than outputs (1), reverse mode AD is appropriate. So, we use <code>jax.grad()</code> \n",
        "See the exercises for other options."
      ]
    },
    {
      "cell_type": "code",
      "metadata": {
        "id": "l8fRCm9100JP"
      },
      "source": [
        "def cost_func_grad (bb, u):    \n",
        "    direcmat = jax.grad(cost_func, argnums=(0,))(bb, u)\n",
        "    return direcmat[0]"
      ],
      "execution_count": null,
      "outputs": []
    },
    {
      "cell_type": "markdown",
      "metadata": {
        "id": "1_MZIbgY00JP"
      },
      "source": [
        "Call the <code>scipy.optimize.minimize</code> routine (L-BFGS). Derivatives are provided by <code>get_gradient_cost_func</code> and <code>plot_bb</code> will plot the parameter values for each iteration in LBFGS."
      ]
    },
    {
      "cell_type": "code",
      "metadata": {
        "id": "vmjkX1WG00JQ"
      },
      "source": [
        "# The optimization can start either at a intial point that is all zeros or at a random point\n",
        "#bb = jnp.zeros(n)\n",
        "key = random.PRNGKey(0)\n",
        "bb = random.normal(key, (n,), jnp.float64)\n",
        "res = minimize(cost_func,bb,args=(u_p_truth),tol=1e-1,\n",
        "               options={\"maxiter\":100}, # Reduce this value to make the optimization stop sooner\n",
        "               jac = cost_func_grad,\n",
        "               callback = plot_bb)\n",
        "  "
      ],
      "execution_count": null,
      "outputs": []
    },
    {
      "cell_type": "markdown",
      "metadata": {
        "id": "3cdphoR200JQ"
      },
      "source": [
        "Plot the final parameter values and velocity"
      ]
    },
    {
      "cell_type": "code",
      "metadata": {
        "id": "4OVet4ZM00JR"
      },
      "source": [
        "bb_final = res[\"x\"]\n",
        "plot_bb(bb_final)\n",
        "u = stream_vel(bb=bb_final)\n",
        "plot_velocity(u)"
      ],
      "execution_count": null,
      "outputs": []
    },
    {
      "cell_type": "markdown",
      "metadata": {
        "id": "B_mmEkqb00JR"
      },
      "source": [
        "\n",
        "# Exercises related to Automatic Differentiation\n",
        "1. Change the number of grid points (n) \n",
        "2. Compare the performance of cost functions using\n",
        "  1. Finite differences\n",
        "  2. `jax.jacfwd()`\n",
        "  3. `jax.grad()`\n",
        "  4. `jax.jvp()`\n",
        "  5. `jax.vjp()`\n",
        "  \n",
        "The cost functions are given below\n"
      ]
    },
    {
      "cell_type": "code",
      "metadata": {
        "id": "8mG13phN00JR"
      },
      "source": [
        "def cost_func_vjp (bb, u):  \n",
        "    _, jax_vjp = jax.vjp(cost_func, bb, u)\n",
        "    directmat = jax_vjp(1.0)\n",
        "    return directmat[0]"
      ],
      "execution_count": null,
      "outputs": []
    },
    {
      "cell_type": "code",
      "metadata": {
        "id": "-8Xqj2lM00JR"
      },
      "source": [
        "def cost_func_jvp (bb, u):  \n",
        "    n = bb.size\n",
        "    directmat = jnp.empty([0])\n",
        "    for i in range(n):\n",
        "        seed = jnp.zeros(n)\n",
        "        seed = jax.ops.index_update(seed, jax.ops.index[i], 1)\n",
        "        primal, res = jax.jvp(cost_func, (bb, u), (seed,jnp.zeros(n+1)))\n",
        "        directmat = jnp.append(directmat, res)\n",
        "    return directmat"
      ],
      "execution_count": null,
      "outputs": []
    },
    {
      "cell_type": "code",
      "metadata": {
        "id": "kOzX80K_00JR"
      },
      "source": [
        "def cost_func_jacfwd (bb, u):    \n",
        "    direcmat = jax.jacfwd(cost_func, argnums=(0,))(bb, u)\n",
        "    return direcmat[0]"
      ],
      "execution_count": null,
      "outputs": []
    },
    {
      "cell_type": "code",
      "metadata": {
        "id": "9ieDR0Gh00JS"
      },
      "source": [
        "def cost_func_jacrev (bb, u):    \n",
        "    direcmat = jax.jacrev(cost_func, argnums=(0,))(bb, u)\n",
        "    return direcmat[0]"
      ],
      "execution_count": null,
      "outputs": []
    },
    {
      "cell_type": "markdown",
      "metadata": {
        "id": "ioX-PVrBBEbB"
      },
      "source": [
        "# Exercises related to Glaciology\n",
        "1. Change glacier physics by modifying the constants\n",
        "2. Get the value of gamma"
      ]
    }
  ]
}