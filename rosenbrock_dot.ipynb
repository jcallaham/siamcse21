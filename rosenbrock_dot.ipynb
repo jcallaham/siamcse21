{
  "nbformat": 4,
  "nbformat_minor": 0,
  "metadata": {
    "kernelspec": {
      "display_name": "Python 3",
      "language": "python",
      "name": "python3"
    },
    "language_info": {
      "codemirror_mode": {
        "name": "ipython",
        "version": 3
      },
      "file_extension": ".py",
      "mimetype": "text/x-python",
      "name": "python",
      "nbconvert_exporter": "python",
      "pygments_lexer": "ipython3",
      "version": "3.9.0"
    },
    "colab": {
      "name": "rosenbrock_dot.ipynb",
      "provenance": [],
      "collapsed_sections": [],
      "include_colab_link": true
    }
  },
  "cells": [
    {
      "cell_type": "markdown",
      "metadata": {
        "id": "view-in-github",
        "colab_type": "text"
      },
      "source": [
        "<a href=\"https://colab.research.google.com/github/sriharikrishna/siamcse21/blob/main/rosenbrock_dot.ipynb\" target=\"_parent\"><img src=\"https://colab.research.google.com/assets/colab-badge.svg\" alt=\"Open In Colab\"/></a>"
      ]
    },
    {
      "cell_type": "markdown",
      "metadata": {
        "id": "aZ5x5uNHEI0z"
      },
      "source": [
        "#Rosenbrock Dot Product Test\n",
        "Here we first rewrite the Rosenbrock example from earlier as calls to two functions:\n",
        "\n",
        "`result =  rosenbrock_vec_2(rosenbrock_vec_1(x))`"
      ]
    },
    {
      "cell_type": "code",
      "metadata": {
        "id": "zPCa8H6O3To8"
      },
      "source": [
        "import jax\n",
        "from jax import random\n",
        "import jax.numpy as jnp\n",
        "import numpy as np\n",
        "\n",
        "def rosenbrock(x):\n",
        "    \"\"\"\n",
        "    Computes the Rosenbrock's banana\n",
        "    x : array of values\n",
        "    \"\"\"\n",
        "    y = rosenbrock_vec_1(x)\n",
        "    z = rosenbrock_vec_2(y)\n",
        "    return z\n",
        "\n",
        "def rosenbrock_vec_1(x):\n",
        "    \"\"\"\n",
        "    Computes the individual summation terms of Rosenbrock's banana\n",
        "    x : array of values\n",
        "    \"\"\"\n",
        "    y = (100.0 * (x[1:] - x[:-1]**2.0)**2.0 + (1 - x[:-1])**2.0)\n",
        "    return y\n",
        "\n",
        "def rosenbrock_vec_2(y):\n",
        "    \"\"\"\n",
        "    Sums the individual terms of Rosenbrock's banana\n",
        "    y : array of summation terms\n",
        "    \"\"\"\n",
        "    z = sum(y)\n",
        "    return z"
      ],
      "execution_count": 60,
      "outputs": []
    },
    {
      "cell_type": "markdown",
      "metadata": {
        "id": "t_XQnMuOResX"
      },
      "source": [
        "We then compute the forward mode partial derivatives.\n",
        "Create a random vector `x`"
      ]
    },
    {
      "cell_type": "code",
      "metadata": {
        "colab": {
          "base_uri": "https://localhost:8080/"
        },
        "id": "SWrH1HDcRRpp",
        "outputId": "2493b07b-866e-483f-9e9e-57940810606a"
      },
      "source": [
        "#create a random array\n",
        "n=10\n",
        "key = random.PRNGKey(0)\n",
        "x = random.normal(key, (n,), jnp.float64)\n",
        "print(\"x\", x)"
      ],
      "execution_count": 61,
      "outputs": [
        {
          "output_type": "stream",
          "text": [
            "x [-0.372111    0.26423106 -0.18252774 -0.7368198  -0.44030386 -0.15214427\n",
            " -0.6713536  -0.5908642   0.73168874  0.5673025 ]\n"
          ],
          "name": "stdout"
        }
      ]
    },
    {
      "cell_type": "markdown",
      "metadata": {
        "id": "-A7XxQ1PWxlm"
      },
      "source": [
        "## Forward mode\n",
        "Create a random seed vector `xd` and compute the partials"
      ]
    },
    {
      "cell_type": "code",
      "metadata": {
        "colab": {
          "base_uri": "https://localhost:8080/"
        },
        "id": "_zS8ga9CVdG-",
        "outputId": "ce3a3a59-9ab8-40ba-de50-d946270bc896"
      },
      "source": [
        " #Forward mode; create a random seed; compute gradients\n",
        "key = random.PRNGKey(34234)\n",
        "xd = random.normal(key, (x.shape), jnp.float64)\n",
        "print(\"xd\", xd)"
      ],
      "execution_count": 62,
      "outputs": [
        {
          "output_type": "stream",
          "text": [
            "xd [ 0.25664428  2.0618527   0.17896675 -0.05648184 -1.0964983  -0.7214161\n",
            " -1.4962182   0.49886012 -0.35361898 -0.07395974]\n"
          ],
          "name": "stdout"
        }
      ]
    },
    {
      "cell_type": "code",
      "metadata": {
        "colab": {
          "base_uri": "https://localhost:8080/"
        },
        "id": "k8oSFWIdVsRz",
        "outputId": "895defdd-b8bb-45ed-ce33-329fa98bcb81"
      },
      "source": [
        "y, yd = jax.jvp(rosenbrock_vec_1, (x,),(xd,))\n",
        "print(\"yd\",yd)"
      ],
      "execution_count": 63,
      "outputs": [
        {
          "output_type": "stream",
          "text": [
            "yd [ 55.96148    42.925358   -1.7865543 232.18044   119.90302   239.9787\n",
            " 319.5841     16.462196    3.0224354]\n"
          ],
          "name": "stdout"
        }
      ]
    },
    {
      "cell_type": "code",
      "metadata": {
        "colab": {
          "base_uri": "https://localhost:8080/"
        },
        "id": "T0YLvqMOVso0",
        "outputId": "37b13cb0-76bb-485e-9716-5e53f2109a9a"
      },
      "source": [
        "z, zd = jax.jvp(rosenbrock_vec_2, (y,), (yd,))\n",
        "print(\"zd\",zd)"
      ],
      "execution_count": 64,
      "outputs": [
        {
          "output_type": "stream",
          "text": [
            "zd 1028.2312\n"
          ],
          "name": "stdout"
        }
      ]
    },
    {
      "cell_type": "markdown",
      "metadata": {
        "id": "gqknDtZrXNnB"
      },
      "source": [
        "## Reverse Mode\n",
        "Create a random seed vector `xd` and compute the partials"
      ]
    },
    {
      "cell_type": "code",
      "metadata": {
        "colab": {
          "base_uri": "https://localhost:8080/"
        },
        "id": "t3s359ywV7gA",
        "outputId": "843350ab-144d-47ce-c5fc-a26bca5f15b0"
      },
      "source": [
        "#Reverse mode; create a random seed; compute adjoints\n",
        "key = random.PRNGKey(134534)\n",
        "zb = random.normal(key, (1,), jnp.float64)[0]\n",
        "print(\"zb\",zb)"
      ],
      "execution_count": 65,
      "outputs": [
        {
          "output_type": "stream",
          "text": [
            "zb -0.47497585\n"
          ],
          "name": "stdout"
        }
      ]
    },
    {
      "cell_type": "code",
      "metadata": {
        "colab": {
          "base_uri": "https://localhost:8080/"
        },
        "id": "j6Qgge0DV7Wk",
        "outputId": "987d0275-c6ee-4afa-f119-4382899af169"
      },
      "source": [
        "_, fun_vjp = jax.vjp(rosenbrock_vec_2, y)\n",
        "yb = np.array(fun_vjp(zb))\n",
        "#yb = -yb\n",
        "print(\"yb\",np.array(yb))"
      ],
      "execution_count": 76,
      "outputs": [
        {
          "output_type": "stream",
          "text": [
            "yb [[-0.47497585 -0.47497585 -0.47497585 -0.47497585 -0.47497585 -0.47497585\n",
            "  -0.47497585 -0.47497585 -0.47497585]]\n"
          ],
          "name": "stdout"
        }
      ]
    },
    {
      "cell_type": "code",
      "metadata": {
        "colab": {
          "base_uri": "https://localhost:8080/"
        },
        "id": "XkxOPgCSV7K4",
        "outputId": "029ec302-4218-4549-8257-844e13f04c96"
      },
      "source": [
        "_, fun_vjp = jax.vjp(rosenbrock_vec_1, x)\n",
        "xb = np.array(fun_vjp(yb[0]))\n",
        "print(\"xb\", xb)"
      ],
      "execution_count": 77,
      "outputs": [
        {
          "output_type": "stream",
          "text": [
            "xb [[ -7.5877934 -23.916172   51.802147  212.44696   123.71325    54.039146\n",
            "  200.41623    57.509766  -31.647968   -3.0335894]]\n"
          ],
          "name": "stdout"
        }
      ]
    },
    {
      "cell_type": "markdown",
      "metadata": {
        "id": "1LBBgsWuXUjE"
      },
      "source": [
        "## Dot Products\n",
        "Compute the dot products"
      ]
    },
    {
      "cell_type": "code",
      "metadata": {
        "colab": {
          "base_uri": "https://localhost:8080/"
        },
        "id": "HHH3WovrWMXl",
        "outputId": "7c06e408-292f-4469-a110-7e9fc5ce5666"
      },
      "source": [
        "#Compute the dot products\n",
        "print(\"jnp.dot(xb,xd)\", jnp.dot(xb,xd))\n",
        "print(\"jnp.dot(yb,yd)\", jnp.dot(yb,yd))\n",
        "print(\"jnp.dot(zb,zd)\",jnp.dot(zb,zd))"
      ],
      "execution_count": 78,
      "outputs": [
        {
          "output_type": "stream",
          "text": [
            "jnp.dot(xb,xd) [-488.38498]\n",
            "jnp.dot(yb,yd) [-488.38498]\n",
            "jnp.dot(zb,zd) -488.38498\n"
          ],
          "name": "stdout"
        }
      ]
    },
    {
      "cell_type": "markdown",
      "metadata": {
        "id": "Gv-TzrXkXfpd"
      },
      "source": [
        "## Exercises\n",
        "1. Use different seeds for `x`, `xd`, `xb`.\n",
        "2. Edit the value of `yd` or `yb` after it has been calculated to see the new result of the dot products"
      ]
    }
  ]
}